{
 "cells": [
  {
   "cell_type": "markdown",
   "metadata": {},
   "source": [
    "replace N/A values with median or mode\n",
    "\n",
    "One hot encoding for categorical variables"
   ]
  },
  {
   "cell_type": "code",
   "execution_count": 191,
   "metadata": {},
   "outputs": [],
   "source": [
    "import pandas as pd\n",
    "import numpy as np"
   ]
  },
  {
   "cell_type": "code",
   "execution_count": 197,
   "metadata": {},
   "outputs": [],
   "source": [
    "df = pd.read_csv('Master_Data.csv', index_col=0)"
   ]
  },
  {
   "cell_type": "code",
   "execution_count": 198,
   "metadata": {
    "scrolled": true
   },
   "outputs": [
    {
     "data": {
      "text/html": [
       "<div>\n",
       "<style scoped>\n",
       "    .dataframe tbody tr th:only-of-type {\n",
       "        vertical-align: middle;\n",
       "    }\n",
       "\n",
       "    .dataframe tbody tr th {\n",
       "        vertical-align: top;\n",
       "    }\n",
       "\n",
       "    .dataframe thead th {\n",
       "        text-align: right;\n",
       "    }\n",
       "</style>\n",
       "<table border=\"1\" class=\"dataframe\">\n",
       "  <thead>\n",
       "    <tr style=\"text-align: right;\">\n",
       "      <th></th>\n",
       "      <th>SEQN</th>\n",
       "      <th>Gender</th>\n",
       "      <th>Age</th>\n",
       "      <th>Race</th>\n",
       "      <th>Country_Born</th>\n",
       "      <th>Family_Income</th>\n",
       "      <th>Heart_Rate</th>\n",
       "      <th>Pulse_Regular_Irregular</th>\n",
       "      <th>Systolic_BP_Avg</th>\n",
       "      <th>Diastolic_BP_Avg</th>\n",
       "      <th>...</th>\n",
       "      <th>Doctor_told_you_lose_weight</th>\n",
       "      <th>Doctor_told_you_exercise</th>\n",
       "      <th>Doctor_told_you_reduce_salt</th>\n",
       "      <th>Doctor_told_you_reduce_fat_calories</th>\n",
       "      <th>Walk_or_bicycle</th>\n",
       "      <th>Vigorous_recreational_activities</th>\n",
       "      <th>Moderate_recreational_activities</th>\n",
       "      <th>Smoked_at_least_100_cigarettes_in_life</th>\n",
       "      <th>Do_you_now_smoke_cigarettes</th>\n",
       "      <th>Target</th>\n",
       "    </tr>\n",
       "  </thead>\n",
       "  <tbody>\n",
       "    <tr>\n",
       "      <th>0</th>\n",
       "      <td>83732.0</td>\n",
       "      <td>1.0</td>\n",
       "      <td>62.0</td>\n",
       "      <td>3.0</td>\n",
       "      <td>1.0</td>\n",
       "      <td>10.0</td>\n",
       "      <td>76.0</td>\n",
       "      <td>1.0</td>\n",
       "      <td>122.666667</td>\n",
       "      <td>65.333333</td>\n",
       "      <td>...</td>\n",
       "      <td>2.0</td>\n",
       "      <td>1.0</td>\n",
       "      <td>2.0</td>\n",
       "      <td>2.0</td>\n",
       "      <td>2.0</td>\n",
       "      <td>2.0</td>\n",
       "      <td>1.0</td>\n",
       "      <td>1.0</td>\n",
       "      <td>3.0</td>\n",
       "      <td>2.0</td>\n",
       "    </tr>\n",
       "    <tr>\n",
       "      <th>1</th>\n",
       "      <td>83733.0</td>\n",
       "      <td>1.0</td>\n",
       "      <td>53.0</td>\n",
       "      <td>3.0</td>\n",
       "      <td>2.0</td>\n",
       "      <td>4.0</td>\n",
       "      <td>72.0</td>\n",
       "      <td>1.0</td>\n",
       "      <td>140.000000</td>\n",
       "      <td>86.000000</td>\n",
       "      <td>...</td>\n",
       "      <td>2.0</td>\n",
       "      <td>2.0</td>\n",
       "      <td>2.0</td>\n",
       "      <td>2.0</td>\n",
       "      <td>2.0</td>\n",
       "      <td>2.0</td>\n",
       "      <td>2.0</td>\n",
       "      <td>1.0</td>\n",
       "      <td>1.0</td>\n",
       "      <td>2.0</td>\n",
       "    </tr>\n",
       "    <tr>\n",
       "      <th>3</th>\n",
       "      <td>83735.0</td>\n",
       "      <td>2.0</td>\n",
       "      <td>56.0</td>\n",
       "      <td>3.0</td>\n",
       "      <td>1.0</td>\n",
       "      <td>10.0</td>\n",
       "      <td>78.0</td>\n",
       "      <td>1.0</td>\n",
       "      <td>134.000000</td>\n",
       "      <td>70.000000</td>\n",
       "      <td>...</td>\n",
       "      <td>1.0</td>\n",
       "      <td>1.0</td>\n",
       "      <td>2.0</td>\n",
       "      <td>1.0</td>\n",
       "      <td>2.0</td>\n",
       "      <td>2.0</td>\n",
       "      <td>2.0</td>\n",
       "      <td>2.0</td>\n",
       "      <td>NaN</td>\n",
       "      <td>2.0</td>\n",
       "    </tr>\n",
       "    <tr>\n",
       "      <th>4</th>\n",
       "      <td>83736.0</td>\n",
       "      <td>2.0</td>\n",
       "      <td>42.0</td>\n",
       "      <td>4.0</td>\n",
       "      <td>1.0</td>\n",
       "      <td>7.0</td>\n",
       "      <td>76.0</td>\n",
       "      <td>1.0</td>\n",
       "      <td>104.000000</td>\n",
       "      <td>60.000000</td>\n",
       "      <td>...</td>\n",
       "      <td>2.0</td>\n",
       "      <td>2.0</td>\n",
       "      <td>2.0</td>\n",
       "      <td>2.0</td>\n",
       "      <td>2.0</td>\n",
       "      <td>2.0</td>\n",
       "      <td>2.0</td>\n",
       "      <td>2.0</td>\n",
       "      <td>NaN</td>\n",
       "      <td>2.0</td>\n",
       "    </tr>\n",
       "    <tr>\n",
       "      <th>9</th>\n",
       "      <td>83741.0</td>\n",
       "      <td>1.0</td>\n",
       "      <td>22.0</td>\n",
       "      <td>4.0</td>\n",
       "      <td>1.0</td>\n",
       "      <td>7.0</td>\n",
       "      <td>66.0</td>\n",
       "      <td>1.0</td>\n",
       "      <td>111.333333</td>\n",
       "      <td>72.666667</td>\n",
       "      <td>...</td>\n",
       "      <td>2.0</td>\n",
       "      <td>2.0</td>\n",
       "      <td>2.0</td>\n",
       "      <td>2.0</td>\n",
       "      <td>1.0</td>\n",
       "      <td>1.0</td>\n",
       "      <td>2.0</td>\n",
       "      <td>1.0</td>\n",
       "      <td>2.0</td>\n",
       "      <td>2.0</td>\n",
       "    </tr>\n",
       "  </tbody>\n",
       "</table>\n",
       "<p>5 rows × 38 columns</p>\n",
       "</div>"
      ],
      "text/plain": [
       "      SEQN  Gender   Age  Race  Country_Born  Family_Income  Heart_Rate  \\\n",
       "0  83732.0     1.0  62.0   3.0           1.0           10.0        76.0   \n",
       "1  83733.0     1.0  53.0   3.0           2.0            4.0        72.0   \n",
       "3  83735.0     2.0  56.0   3.0           1.0           10.0        78.0   \n",
       "4  83736.0     2.0  42.0   4.0           1.0            7.0        76.0   \n",
       "9  83741.0     1.0  22.0   4.0           1.0            7.0        66.0   \n",
       "\n",
       "   Pulse_Regular_Irregular  Systolic_BP_Avg  Diastolic_BP_Avg   ...    \\\n",
       "0                      1.0       122.666667         65.333333   ...     \n",
       "1                      1.0       140.000000         86.000000   ...     \n",
       "3                      1.0       134.000000         70.000000   ...     \n",
       "4                      1.0       104.000000         60.000000   ...     \n",
       "9                      1.0       111.333333         72.666667   ...     \n",
       "\n",
       "   Doctor_told_you_lose_weight  Doctor_told_you_exercise  \\\n",
       "0                          2.0                       1.0   \n",
       "1                          2.0                       2.0   \n",
       "3                          1.0                       1.0   \n",
       "4                          2.0                       2.0   \n",
       "9                          2.0                       2.0   \n",
       "\n",
       "   Doctor_told_you_reduce_salt  Doctor_told_you_reduce_fat_calories  \\\n",
       "0                          2.0                                  2.0   \n",
       "1                          2.0                                  2.0   \n",
       "3                          2.0                                  1.0   \n",
       "4                          2.0                                  2.0   \n",
       "9                          2.0                                  2.0   \n",
       "\n",
       "   Walk_or_bicycle  Vigorous_recreational_activities  \\\n",
       "0              2.0                               2.0   \n",
       "1              2.0                               2.0   \n",
       "3              2.0                               2.0   \n",
       "4              2.0                               2.0   \n",
       "9              1.0                               1.0   \n",
       "\n",
       "   Moderate_recreational_activities  Smoked_at_least_100_cigarettes_in_life  \\\n",
       "0                               1.0                                     1.0   \n",
       "1                               2.0                                     1.0   \n",
       "3                               2.0                                     2.0   \n",
       "4                               2.0                                     2.0   \n",
       "9                               2.0                                     1.0   \n",
       "\n",
       "   Do_you_now_smoke_cigarettes  Target  \n",
       "0                          3.0     2.0  \n",
       "1                          1.0     2.0  \n",
       "3                          NaN     2.0  \n",
       "4                          NaN     2.0  \n",
       "9                          2.0     2.0  \n",
       "\n",
       "[5 rows x 38 columns]"
      ]
     },
     "execution_count": 198,
     "metadata": {},
     "output_type": "execute_result"
    }
   ],
   "source": [
    "df.head()"
   ]
  },
  {
   "cell_type": "code",
   "execution_count": 199,
   "metadata": {},
   "outputs": [
    {
     "data": {
      "text/plain": [
       "(4707, 38)"
      ]
     },
     "execution_count": 199,
     "metadata": {},
     "output_type": "execute_result"
    }
   ],
   "source": [
    "df.shape"
   ]
  },
  {
   "cell_type": "code",
   "execution_count": null,
   "metadata": {},
   "outputs": [],
   "source": []
  },
  {
   "cell_type": "code",
   "execution_count": 200,
   "metadata": {},
   "outputs": [],
   "source": [
    "df.reset_index(inplace=True)"
   ]
  },
  {
   "cell_type": "code",
   "execution_count": 201,
   "metadata": {},
   "outputs": [
    {
     "data": {
      "text/plain": [
       "(4707, 39)"
      ]
     },
     "execution_count": 201,
     "metadata": {},
     "output_type": "execute_result"
    }
   ],
   "source": [
    "df.shape"
   ]
  },
  {
   "cell_type": "code",
   "execution_count": 202,
   "metadata": {},
   "outputs": [],
   "source": [
    "df.drop(columns='index',inplace=True)"
   ]
  },
  {
   "cell_type": "code",
   "execution_count": 203,
   "metadata": {},
   "outputs": [
    {
     "data": {
      "text/plain": [
       "(4707, 38)"
      ]
     },
     "execution_count": 203,
     "metadata": {},
     "output_type": "execute_result"
    }
   ],
   "source": [
    "df.shape"
   ]
  },
  {
   "cell_type": "code",
   "execution_count": 204,
   "metadata": {},
   "outputs": [
    {
     "data": {
      "text/html": [
       "<div>\n",
       "<style scoped>\n",
       "    .dataframe tbody tr th:only-of-type {\n",
       "        vertical-align: middle;\n",
       "    }\n",
       "\n",
       "    .dataframe tbody tr th {\n",
       "        vertical-align: top;\n",
       "    }\n",
       "\n",
       "    .dataframe thead th {\n",
       "        text-align: right;\n",
       "    }\n",
       "</style>\n",
       "<table border=\"1\" class=\"dataframe\">\n",
       "  <thead>\n",
       "    <tr style=\"text-align: right;\">\n",
       "      <th></th>\n",
       "      <th>SEQN</th>\n",
       "      <th>Gender</th>\n",
       "      <th>Age</th>\n",
       "      <th>Race</th>\n",
       "      <th>Country_Born</th>\n",
       "      <th>Family_Income</th>\n",
       "      <th>Heart_Rate</th>\n",
       "      <th>Pulse_Regular_Irregular</th>\n",
       "      <th>Systolic_BP_Avg</th>\n",
       "      <th>Diastolic_BP_Avg</th>\n",
       "      <th>...</th>\n",
       "      <th>Doctor_told_you_lose_weight</th>\n",
       "      <th>Doctor_told_you_exercise</th>\n",
       "      <th>Doctor_told_you_reduce_salt</th>\n",
       "      <th>Doctor_told_you_reduce_fat_calories</th>\n",
       "      <th>Walk_or_bicycle</th>\n",
       "      <th>Vigorous_recreational_activities</th>\n",
       "      <th>Moderate_recreational_activities</th>\n",
       "      <th>Smoked_at_least_100_cigarettes_in_life</th>\n",
       "      <th>Do_you_now_smoke_cigarettes</th>\n",
       "      <th>Target</th>\n",
       "    </tr>\n",
       "  </thead>\n",
       "  <tbody>\n",
       "    <tr>\n",
       "      <th>0</th>\n",
       "      <td>83732.0</td>\n",
       "      <td>1.0</td>\n",
       "      <td>62.0</td>\n",
       "      <td>3.0</td>\n",
       "      <td>1.0</td>\n",
       "      <td>10.0</td>\n",
       "      <td>76.0</td>\n",
       "      <td>1.0</td>\n",
       "      <td>122.666667</td>\n",
       "      <td>65.333333</td>\n",
       "      <td>...</td>\n",
       "      <td>2.0</td>\n",
       "      <td>1.0</td>\n",
       "      <td>2.0</td>\n",
       "      <td>2.0</td>\n",
       "      <td>2.0</td>\n",
       "      <td>2.0</td>\n",
       "      <td>1.0</td>\n",
       "      <td>1.0</td>\n",
       "      <td>3.0</td>\n",
       "      <td>2.0</td>\n",
       "    </tr>\n",
       "    <tr>\n",
       "      <th>1</th>\n",
       "      <td>83733.0</td>\n",
       "      <td>1.0</td>\n",
       "      <td>53.0</td>\n",
       "      <td>3.0</td>\n",
       "      <td>2.0</td>\n",
       "      <td>4.0</td>\n",
       "      <td>72.0</td>\n",
       "      <td>1.0</td>\n",
       "      <td>140.000000</td>\n",
       "      <td>86.000000</td>\n",
       "      <td>...</td>\n",
       "      <td>2.0</td>\n",
       "      <td>2.0</td>\n",
       "      <td>2.0</td>\n",
       "      <td>2.0</td>\n",
       "      <td>2.0</td>\n",
       "      <td>2.0</td>\n",
       "      <td>2.0</td>\n",
       "      <td>1.0</td>\n",
       "      <td>1.0</td>\n",
       "      <td>2.0</td>\n",
       "    </tr>\n",
       "    <tr>\n",
       "      <th>2</th>\n",
       "      <td>83735.0</td>\n",
       "      <td>2.0</td>\n",
       "      <td>56.0</td>\n",
       "      <td>3.0</td>\n",
       "      <td>1.0</td>\n",
       "      <td>10.0</td>\n",
       "      <td>78.0</td>\n",
       "      <td>1.0</td>\n",
       "      <td>134.000000</td>\n",
       "      <td>70.000000</td>\n",
       "      <td>...</td>\n",
       "      <td>1.0</td>\n",
       "      <td>1.0</td>\n",
       "      <td>2.0</td>\n",
       "      <td>1.0</td>\n",
       "      <td>2.0</td>\n",
       "      <td>2.0</td>\n",
       "      <td>2.0</td>\n",
       "      <td>2.0</td>\n",
       "      <td>NaN</td>\n",
       "      <td>2.0</td>\n",
       "    </tr>\n",
       "    <tr>\n",
       "      <th>3</th>\n",
       "      <td>83736.0</td>\n",
       "      <td>2.0</td>\n",
       "      <td>42.0</td>\n",
       "      <td>4.0</td>\n",
       "      <td>1.0</td>\n",
       "      <td>7.0</td>\n",
       "      <td>76.0</td>\n",
       "      <td>1.0</td>\n",
       "      <td>104.000000</td>\n",
       "      <td>60.000000</td>\n",
       "      <td>...</td>\n",
       "      <td>2.0</td>\n",
       "      <td>2.0</td>\n",
       "      <td>2.0</td>\n",
       "      <td>2.0</td>\n",
       "      <td>2.0</td>\n",
       "      <td>2.0</td>\n",
       "      <td>2.0</td>\n",
       "      <td>2.0</td>\n",
       "      <td>NaN</td>\n",
       "      <td>2.0</td>\n",
       "    </tr>\n",
       "    <tr>\n",
       "      <th>4</th>\n",
       "      <td>83741.0</td>\n",
       "      <td>1.0</td>\n",
       "      <td>22.0</td>\n",
       "      <td>4.0</td>\n",
       "      <td>1.0</td>\n",
       "      <td>7.0</td>\n",
       "      <td>66.0</td>\n",
       "      <td>1.0</td>\n",
       "      <td>111.333333</td>\n",
       "      <td>72.666667</td>\n",
       "      <td>...</td>\n",
       "      <td>2.0</td>\n",
       "      <td>2.0</td>\n",
       "      <td>2.0</td>\n",
       "      <td>2.0</td>\n",
       "      <td>1.0</td>\n",
       "      <td>1.0</td>\n",
       "      <td>2.0</td>\n",
       "      <td>1.0</td>\n",
       "      <td>2.0</td>\n",
       "      <td>2.0</td>\n",
       "    </tr>\n",
       "  </tbody>\n",
       "</table>\n",
       "<p>5 rows × 38 columns</p>\n",
       "</div>"
      ],
      "text/plain": [
       "      SEQN  Gender   Age  Race  Country_Born  Family_Income  Heart_Rate  \\\n",
       "0  83732.0     1.0  62.0   3.0           1.0           10.0        76.0   \n",
       "1  83733.0     1.0  53.0   3.0           2.0            4.0        72.0   \n",
       "2  83735.0     2.0  56.0   3.0           1.0           10.0        78.0   \n",
       "3  83736.0     2.0  42.0   4.0           1.0            7.0        76.0   \n",
       "4  83741.0     1.0  22.0   4.0           1.0            7.0        66.0   \n",
       "\n",
       "   Pulse_Regular_Irregular  Systolic_BP_Avg  Diastolic_BP_Avg   ...    \\\n",
       "0                      1.0       122.666667         65.333333   ...     \n",
       "1                      1.0       140.000000         86.000000   ...     \n",
       "2                      1.0       134.000000         70.000000   ...     \n",
       "3                      1.0       104.000000         60.000000   ...     \n",
       "4                      1.0       111.333333         72.666667   ...     \n",
       "\n",
       "   Doctor_told_you_lose_weight  Doctor_told_you_exercise  \\\n",
       "0                          2.0                       1.0   \n",
       "1                          2.0                       2.0   \n",
       "2                          1.0                       1.0   \n",
       "3                          2.0                       2.0   \n",
       "4                          2.0                       2.0   \n",
       "\n",
       "   Doctor_told_you_reduce_salt  Doctor_told_you_reduce_fat_calories  \\\n",
       "0                          2.0                                  2.0   \n",
       "1                          2.0                                  2.0   \n",
       "2                          2.0                                  1.0   \n",
       "3                          2.0                                  2.0   \n",
       "4                          2.0                                  2.0   \n",
       "\n",
       "   Walk_or_bicycle  Vigorous_recreational_activities  \\\n",
       "0              2.0                               2.0   \n",
       "1              2.0                               2.0   \n",
       "2              2.0                               2.0   \n",
       "3              2.0                               2.0   \n",
       "4              1.0                               1.0   \n",
       "\n",
       "   Moderate_recreational_activities  Smoked_at_least_100_cigarettes_in_life  \\\n",
       "0                               1.0                                     1.0   \n",
       "1                               2.0                                     1.0   \n",
       "2                               2.0                                     2.0   \n",
       "3                               2.0                                     2.0   \n",
       "4                               2.0                                     1.0   \n",
       "\n",
       "   Do_you_now_smoke_cigarettes  Target  \n",
       "0                          3.0     2.0  \n",
       "1                          1.0     2.0  \n",
       "2                          NaN     2.0  \n",
       "3                          NaN     2.0  \n",
       "4                          2.0     2.0  \n",
       "\n",
       "[5 rows x 38 columns]"
      ]
     },
     "execution_count": 204,
     "metadata": {},
     "output_type": "execute_result"
    }
   ],
   "source": [
    "df.head()"
   ]
  },
  {
   "cell_type": "code",
   "execution_count": 205,
   "metadata": {},
   "outputs": [],
   "source": [
    "df = df[np.isfinite(df['Target'])]"
   ]
  },
  {
   "cell_type": "code",
   "execution_count": 206,
   "metadata": {
    "scrolled": true
   },
   "outputs": [
    {
     "data": {
      "text/plain": [
       "2.0    4343\n",
       "1.0      80\n",
       "Name: Target, dtype: int64"
      ]
     },
     "execution_count": 206,
     "metadata": {},
     "output_type": "execute_result"
    }
   ],
   "source": [
    "df['Target'].value_counts()"
   ]
  },
  {
   "cell_type": "code",
   "execution_count": 207,
   "metadata": {},
   "outputs": [
    {
     "data": {
      "text/plain": [
       "0"
      ]
     },
     "execution_count": 207,
     "metadata": {},
     "output_type": "execute_result"
    }
   ],
   "source": [
    "df['Target'].isna().sum()"
   ]
  },
  {
   "cell_type": "code",
   "execution_count": 57,
   "metadata": {},
   "outputs": [],
   "source": []
  },
  {
   "cell_type": "code",
   "execution_count": 208,
   "metadata": {},
   "outputs": [
    {
     "data": {
      "text/plain": [
       "2.0    4343\n",
       "1.0      80\n",
       "Name: Target, dtype: int64"
      ]
     },
     "execution_count": 208,
     "metadata": {},
     "output_type": "execute_result"
    }
   ],
   "source": [
    "df['Target'].value_counts()"
   ]
  },
  {
   "cell_type": "code",
   "execution_count": 209,
   "metadata": {},
   "outputs": [
    {
     "data": {
      "text/plain": [
       "0"
      ]
     },
     "execution_count": 209,
     "metadata": {},
     "output_type": "execute_result"
    }
   ],
   "source": [
    "df['Target'].isna().sum()"
   ]
  },
  {
   "cell_type": "code",
   "execution_count": 210,
   "metadata": {},
   "outputs": [
    {
     "data": {
      "text/plain": [
       "1.0    2837\n",
       "2.0    1585\n",
       "Name: Country_Born, dtype: int64"
      ]
     },
     "execution_count": 210,
     "metadata": {},
     "output_type": "execute_result"
    }
   ],
   "source": [
    "df['Country_Born'].value_counts()"
   ]
  },
  {
   "cell_type": "code",
   "execution_count": 211,
   "metadata": {},
   "outputs": [
    {
     "data": {
      "text/plain": [
       "1"
      ]
     },
     "execution_count": 211,
     "metadata": {},
     "output_type": "execute_result"
    }
   ],
   "source": [
    "df['Country_Born'].isna().sum()"
   ]
  },
  {
   "cell_type": "code",
   "execution_count": 212,
   "metadata": {},
   "outputs": [],
   "source": [
    "df['Country_Born'].fillna(1, inplace=True)"
   ]
  },
  {
   "cell_type": "code",
   "execution_count": 213,
   "metadata": {},
   "outputs": [
    {
     "data": {
      "text/plain": [
       "0"
      ]
     },
     "execution_count": 213,
     "metadata": {},
     "output_type": "execute_result"
    }
   ],
   "source": [
    "df['Country_Born'].isna().sum()"
   ]
  },
  {
   "cell_type": "code",
   "execution_count": 214,
   "metadata": {},
   "outputs": [
    {
     "data": {
      "text/plain": [
       "1.0    4058\n",
       "2.0      65\n",
       "Name: Pulse_Regular_Irregular, dtype: int64"
      ]
     },
     "execution_count": 214,
     "metadata": {},
     "output_type": "execute_result"
    }
   ],
   "source": [
    "df['Pulse_Regular_Irregular'].value_counts()"
   ]
  },
  {
   "cell_type": "code",
   "execution_count": 215,
   "metadata": {},
   "outputs": [
    {
     "data": {
      "text/plain": [
       "300"
      ]
     },
     "execution_count": 215,
     "metadata": {},
     "output_type": "execute_result"
    }
   ],
   "source": [
    "df['Pulse_Regular_Irregular'].isna().sum()"
   ]
  },
  {
   "cell_type": "code",
   "execution_count": 216,
   "metadata": {},
   "outputs": [],
   "source": [
    "df['Pulse_Regular_Irregular'].fillna(1, inplace=True)"
   ]
  },
  {
   "cell_type": "code",
   "execution_count": 217,
   "metadata": {},
   "outputs": [
    {
     "data": {
      "text/plain": [
       "1.0    4358\n",
       "2.0      65\n",
       "Name: Pulse_Regular_Irregular, dtype: int64"
      ]
     },
     "execution_count": 217,
     "metadata": {},
     "output_type": "execute_result"
    }
   ],
   "source": [
    "df['Pulse_Regular_Irregular'].value_counts()"
   ]
  },
  {
   "cell_type": "code",
   "execution_count": 218,
   "metadata": {},
   "outputs": [
    {
     "data": {
      "text/plain": [
       "0"
      ]
     },
     "execution_count": 218,
     "metadata": {},
     "output_type": "execute_result"
    }
   ],
   "source": [
    "df['Pulse_Regular_Irregular'].isna().sum()"
   ]
  },
  {
   "cell_type": "code",
   "execution_count": 219,
   "metadata": {},
   "outputs": [
    {
     "data": {
      "text/plain": [
       "2.0    2632\n",
       "1.0     540\n",
       "Name: Have_4_5_Plus_Drinks_a_Day, dtype: int64"
      ]
     },
     "execution_count": 219,
     "metadata": {},
     "output_type": "execute_result"
    }
   ],
   "source": [
    "df['Have_4_5_Plus_Drinks_a_Day'].value_counts()"
   ]
  },
  {
   "cell_type": "code",
   "execution_count": 220,
   "metadata": {},
   "outputs": [
    {
     "data": {
      "text/plain": [
       "1251"
      ]
     },
     "execution_count": 220,
     "metadata": {},
     "output_type": "execute_result"
    }
   ],
   "source": [
    "df['Have_4_5_Plus_Drinks_a_Day'].isna().sum()"
   ]
  },
  {
   "cell_type": "code",
   "execution_count": 221,
   "metadata": {},
   "outputs": [],
   "source": [
    "df['Have_4_5_Plus_Drinks_a_Day'].fillna(2,inplace=True)"
   ]
  },
  {
   "cell_type": "code",
   "execution_count": 222,
   "metadata": {},
   "outputs": [
    {
     "data": {
      "text/plain": [
       "0"
      ]
     },
     "execution_count": 222,
     "metadata": {},
     "output_type": "execute_result"
    }
   ],
   "source": [
    "df['Pulse_Regular_Irregular'].isna().sum()"
   ]
  },
  {
   "cell_type": "code",
   "execution_count": 223,
   "metadata": {},
   "outputs": [
    {
     "data": {
      "text/plain": [
       "2.0    3162\n",
       "1.0    1258\n",
       "Name: Ever_told_high_blood_pressure, dtype: int64"
      ]
     },
     "execution_count": 223,
     "metadata": {},
     "output_type": "execute_result"
    }
   ],
   "source": [
    "df['Ever_told_high_blood_pressure'].value_counts()"
   ]
  },
  {
   "cell_type": "code",
   "execution_count": 224,
   "metadata": {},
   "outputs": [
    {
     "data": {
      "text/plain": [
       "3"
      ]
     },
     "execution_count": 224,
     "metadata": {},
     "output_type": "execute_result"
    }
   ],
   "source": [
    "df['Ever_told_high_blood_pressure'].isna().sum()"
   ]
  },
  {
   "cell_type": "code",
   "execution_count": 225,
   "metadata": {},
   "outputs": [],
   "source": [
    "df['Ever_told_high_blood_pressure'].fillna(2,inplace=True)"
   ]
  },
  {
   "cell_type": "code",
   "execution_count": 226,
   "metadata": {},
   "outputs": [
    {
     "data": {
      "text/plain": [
       "0"
      ]
     },
     "execution_count": 226,
     "metadata": {},
     "output_type": "execute_result"
    }
   ],
   "source": [
    "df['Ever_told_high_blood_pressure'].isna().sum()"
   ]
  },
  {
   "cell_type": "code",
   "execution_count": 227,
   "metadata": {},
   "outputs": [
    {
     "data": {
      "text/plain": [
       "2.0    3194\n",
       "1.0    1206\n",
       "Name: Ever_told_high_cholesterol, dtype: int64"
      ]
     },
     "execution_count": 227,
     "metadata": {},
     "output_type": "execute_result"
    }
   ],
   "source": [
    "df['Ever_told_high_cholesterol'].value_counts()"
   ]
  },
  {
   "cell_type": "code",
   "execution_count": 228,
   "metadata": {},
   "outputs": [
    {
     "data": {
      "text/plain": [
       "23"
      ]
     },
     "execution_count": 228,
     "metadata": {},
     "output_type": "execute_result"
    }
   ],
   "source": [
    "df['Ever_told_high_cholesterol'].isna().sum()"
   ]
  },
  {
   "cell_type": "code",
   "execution_count": 229,
   "metadata": {},
   "outputs": [],
   "source": [
    "df['Ever_told_high_cholesterol'].fillna(2,inplace=True)"
   ]
  },
  {
   "cell_type": "code",
   "execution_count": 230,
   "metadata": {},
   "outputs": [
    {
     "data": {
      "text/plain": [
       "0"
      ]
     },
     "execution_count": 230,
     "metadata": {},
     "output_type": "execute_result"
    }
   ],
   "source": [
    "df['Ever_told_high_cholesterol'].isna().sum()"
   ]
  },
  {
   "cell_type": "code",
   "execution_count": 231,
   "metadata": {},
   "outputs": [
    {
     "data": {
      "text/plain": [
       "2.0    3851\n",
       "1.0     487\n",
       "3.0      83\n",
       "Name: Doctor_told_you_have_diabetes, dtype: int64"
      ]
     },
     "execution_count": 231,
     "metadata": {},
     "output_type": "execute_result"
    }
   ],
   "source": [
    "df['Doctor_told_you_have_diabetes'].value_counts()"
   ]
  },
  {
   "cell_type": "code",
   "execution_count": 232,
   "metadata": {},
   "outputs": [
    {
     "data": {
      "text/plain": [
       "2"
      ]
     },
     "execution_count": 232,
     "metadata": {},
     "output_type": "execute_result"
    }
   ],
   "source": [
    "df['Doctor_told_you_have_diabetes'].isna().sum()"
   ]
  },
  {
   "cell_type": "code",
   "execution_count": 233,
   "metadata": {},
   "outputs": [],
   "source": [
    "df['Doctor_told_you_have_diabetes'].fillna(2,inplace=True)"
   ]
  },
  {
   "cell_type": "code",
   "execution_count": 234,
   "metadata": {},
   "outputs": [
    {
     "data": {
      "text/plain": [
       "0"
      ]
     },
     "execution_count": 234,
     "metadata": {},
     "output_type": "execute_result"
    }
   ],
   "source": [
    "df['Doctor_told_you_have_diabetes'].isna().sum()"
   ]
  },
  {
   "cell_type": "code",
   "execution_count": 235,
   "metadata": {},
   "outputs": [
    {
     "data": {
      "text/plain": [
       "2.0    2785\n",
       "1.0    1636\n",
       "Name: Doctor_told_you_overweight, dtype: int64"
      ]
     },
     "execution_count": 235,
     "metadata": {},
     "output_type": "execute_result"
    }
   ],
   "source": [
    "df['Doctor_told_you_overweight'].value_counts()"
   ]
  },
  {
   "cell_type": "code",
   "execution_count": 236,
   "metadata": {},
   "outputs": [
    {
     "data": {
      "text/plain": [
       "2"
      ]
     },
     "execution_count": 236,
     "metadata": {},
     "output_type": "execute_result"
    }
   ],
   "source": [
    "df['Doctor_told_you_overweight'].isna().sum()"
   ]
  },
  {
   "cell_type": "code",
   "execution_count": 237,
   "metadata": {},
   "outputs": [],
   "source": [
    "df['Doctor_told_you_overweight'].fillna(2,inplace=True)"
   ]
  },
  {
   "cell_type": "code",
   "execution_count": 238,
   "metadata": {},
   "outputs": [
    {
     "data": {
      "text/plain": [
       "0"
      ]
     },
     "execution_count": 238,
     "metadata": {},
     "output_type": "execute_result"
    }
   ],
   "source": [
    "df['Doctor_told_you_overweight'].isna().sum()"
   ]
  },
  {
   "cell_type": "code",
   "execution_count": 239,
   "metadata": {},
   "outputs": [
    {
     "data": {
      "text/plain": [
       "2.0    2681\n",
       "1.0    1741\n",
       "Name: Doctor_told_you_exercise, dtype: int64"
      ]
     },
     "execution_count": 239,
     "metadata": {},
     "output_type": "execute_result"
    }
   ],
   "source": [
    "df['Doctor_told_you_exercise'].value_counts()"
   ]
  },
  {
   "cell_type": "code",
   "execution_count": 240,
   "metadata": {},
   "outputs": [
    {
     "data": {
      "text/plain": [
       "1"
      ]
     },
     "execution_count": 240,
     "metadata": {},
     "output_type": "execute_result"
    }
   ],
   "source": [
    "df['Doctor_told_you_exercise'].isna().sum()"
   ]
  },
  {
   "cell_type": "code",
   "execution_count": 241,
   "metadata": {},
   "outputs": [],
   "source": [
    "df['Doctor_told_you_exercise'].fillna(2,inplace=True)"
   ]
  },
  {
   "cell_type": "code",
   "execution_count": 242,
   "metadata": {},
   "outputs": [
    {
     "data": {
      "text/plain": [
       "0"
      ]
     },
     "execution_count": 242,
     "metadata": {},
     "output_type": "execute_result"
    }
   ],
   "source": [
    "df['Doctor_told_you_exercise'].isna().sum()"
   ]
  },
  {
   "cell_type": "code",
   "execution_count": 243,
   "metadata": {},
   "outputs": [
    {
     "data": {
      "text/plain": [
       "2.0    3285\n",
       "1.0    1134\n",
       "Name: Doctor_told_you_reduce_salt, dtype: int64"
      ]
     },
     "execution_count": 243,
     "metadata": {},
     "output_type": "execute_result"
    }
   ],
   "source": [
    "df['Doctor_told_you_reduce_salt'].value_counts()"
   ]
  },
  {
   "cell_type": "code",
   "execution_count": 244,
   "metadata": {},
   "outputs": [
    {
     "data": {
      "text/plain": [
       "4"
      ]
     },
     "execution_count": 244,
     "metadata": {},
     "output_type": "execute_result"
    }
   ],
   "source": [
    "df['Doctor_told_you_reduce_salt'].isna().sum()"
   ]
  },
  {
   "cell_type": "code",
   "execution_count": 245,
   "metadata": {},
   "outputs": [],
   "source": [
    "df['Doctor_told_you_reduce_salt'].fillna(2,inplace=True)"
   ]
  },
  {
   "cell_type": "code",
   "execution_count": 246,
   "metadata": {},
   "outputs": [
    {
     "data": {
      "text/plain": [
       "0"
      ]
     },
     "execution_count": 246,
     "metadata": {},
     "output_type": "execute_result"
    }
   ],
   "source": [
    "df['Doctor_told_you_reduce_salt'].isna().sum()"
   ]
  },
  {
   "cell_type": "code",
   "execution_count": 247,
   "metadata": {},
   "outputs": [
    {
     "data": {
      "text/plain": [
       "2.0    3289\n",
       "1.0    1134\n",
       "Name: Doctor_told_you_reduce_salt, dtype: int64"
      ]
     },
     "execution_count": 247,
     "metadata": {},
     "output_type": "execute_result"
    }
   ],
   "source": [
    "df['Doctor_told_you_reduce_salt'].value_counts()"
   ]
  },
  {
   "cell_type": "code",
   "execution_count": 248,
   "metadata": {},
   "outputs": [
    {
     "data": {
      "text/plain": [
       "2.0    3093\n",
       "1.0    1327\n",
       "Name: Doctor_told_you_reduce_fat_calories, dtype: int64"
      ]
     },
     "execution_count": 248,
     "metadata": {},
     "output_type": "execute_result"
    }
   ],
   "source": [
    "df['Doctor_told_you_reduce_fat_calories'].value_counts()"
   ]
  },
  {
   "cell_type": "code",
   "execution_count": 249,
   "metadata": {},
   "outputs": [
    {
     "data": {
      "text/plain": [
       "3"
      ]
     },
     "execution_count": 249,
     "metadata": {},
     "output_type": "execute_result"
    }
   ],
   "source": [
    "df['Doctor_told_you_reduce_fat_calories'].isna().sum()"
   ]
  },
  {
   "cell_type": "code",
   "execution_count": 250,
   "metadata": {},
   "outputs": [],
   "source": [
    "df['Doctor_told_you_reduce_fat_calories'].fillna(2,inplace=True)"
   ]
  },
  {
   "cell_type": "code",
   "execution_count": 251,
   "metadata": {},
   "outputs": [
    {
     "data": {
      "text/plain": [
       "0"
      ]
     },
     "execution_count": 251,
     "metadata": {},
     "output_type": "execute_result"
    }
   ],
   "source": [
    "df['Doctor_told_you_reduce_fat_calories'].isna().sum()"
   ]
  },
  {
   "cell_type": "code",
   "execution_count": 252,
   "metadata": {},
   "outputs": [
    {
     "data": {
      "text/plain": [
       "2.0    3096\n",
       "1.0    1327\n",
       "Name: Doctor_told_you_reduce_fat_calories, dtype: int64"
      ]
     },
     "execution_count": 252,
     "metadata": {},
     "output_type": "execute_result"
    }
   ],
   "source": [
    "df['Doctor_told_you_reduce_fat_calories'].value_counts()"
   ]
  },
  {
   "cell_type": "code",
   "execution_count": 253,
   "metadata": {},
   "outputs": [
    {
     "data": {
      "text/plain": [
       "2.0    3390\n",
       "1.0    1032\n",
       "Name: Walk_or_bicycle, dtype: int64"
      ]
     },
     "execution_count": 253,
     "metadata": {},
     "output_type": "execute_result"
    }
   ],
   "source": [
    "df['Walk_or_bicycle'].value_counts()"
   ]
  },
  {
   "cell_type": "code",
   "execution_count": 254,
   "metadata": {},
   "outputs": [],
   "source": [
    "df['Walk_or_bicycle'].fillna(2,inplace=True)"
   ]
  },
  {
   "cell_type": "code",
   "execution_count": 255,
   "metadata": {},
   "outputs": [
    {
     "data": {
      "text/plain": [
       "2.0    3132\n",
       "1.0    1290\n",
       "Name: Vigorous_recreational_activities, dtype: int64"
      ]
     },
     "execution_count": 255,
     "metadata": {},
     "output_type": "execute_result"
    }
   ],
   "source": [
    "df['Vigorous_recreational_activities'].value_counts()"
   ]
  },
  {
   "cell_type": "code",
   "execution_count": 256,
   "metadata": {},
   "outputs": [],
   "source": [
    "df['Vigorous_recreational_activities'].fillna(2,inplace=True)"
   ]
  },
  {
   "cell_type": "code",
   "execution_count": 257,
   "metadata": {},
   "outputs": [
    {
     "data": {
      "text/plain": [
       "2.0    2517\n",
       "1.0    1904\n",
       "Name: Moderate_recreational_activities, dtype: int64"
      ]
     },
     "execution_count": 257,
     "metadata": {},
     "output_type": "execute_result"
    }
   ],
   "source": [
    "df['Moderate_recreational_activities'].value_counts()"
   ]
  },
  {
   "cell_type": "code",
   "execution_count": 258,
   "metadata": {},
   "outputs": [],
   "source": [
    "df['Moderate_recreational_activities'].fillna(2, inplace=True)"
   ]
  },
  {
   "cell_type": "code",
   "execution_count": 259,
   "metadata": {},
   "outputs": [
    {
     "data": {
      "text/plain": [
       "0"
      ]
     },
     "execution_count": 259,
     "metadata": {},
     "output_type": "execute_result"
    }
   ],
   "source": [
    "df['Moderate_recreational_activities'].isna().sum()"
   ]
  },
  {
   "cell_type": "code",
   "execution_count": 260,
   "metadata": {},
   "outputs": [
    {
     "data": {
      "text/plain": [
       "2.0    2683\n",
       "1.0    1735\n",
       "Name: Smoked_at_least_100_cigarettes_in_life, dtype: int64"
      ]
     },
     "execution_count": 260,
     "metadata": {},
     "output_type": "execute_result"
    }
   ],
   "source": [
    "df['Smoked_at_least_100_cigarettes_in_life'].value_counts()"
   ]
  },
  {
   "cell_type": "code",
   "execution_count": 261,
   "metadata": {},
   "outputs": [],
   "source": [
    "df['Smoked_at_least_100_cigarettes_in_life'].fillna(2, inplace=True)"
   ]
  },
  {
   "cell_type": "code",
   "execution_count": 262,
   "metadata": {},
   "outputs": [
    {
     "data": {
      "text/plain": [
       "3.0    797\n",
       "1.0    704\n",
       "2.0    234\n",
       "Name: Do_you_now_smoke_cigarettes, dtype: int64"
      ]
     },
     "execution_count": 262,
     "metadata": {},
     "output_type": "execute_result"
    }
   ],
   "source": [
    "df['Do_you_now_smoke_cigarettes'].value_counts()"
   ]
  },
  {
   "cell_type": "code",
   "execution_count": 263,
   "metadata": {},
   "outputs": [],
   "source": [
    "df['Do_you_now_smoke_cigarettes'].fillna(3,inplace=True)"
   ]
  },
  {
   "cell_type": "code",
   "execution_count": 264,
   "metadata": {},
   "outputs": [
    {
     "data": {
      "text/plain": [
       "3.0    3485\n",
       "1.0     704\n",
       "2.0     234\n",
       "Name: Do_you_now_smoke_cigarettes, dtype: int64"
      ]
     },
     "execution_count": 264,
     "metadata": {},
     "output_type": "execute_result"
    }
   ],
   "source": [
    "df['Do_you_now_smoke_cigarettes'].value_counts()"
   ]
  },
  {
   "cell_type": "code",
   "execution_count": 265,
   "metadata": {},
   "outputs": [
    {
     "data": {
      "text/plain": [
       "0"
      ]
     },
     "execution_count": 265,
     "metadata": {},
     "output_type": "execute_result"
    }
   ],
   "source": [
    "df['Do_you_now_smoke_cigarettes'].isna().sum()"
   ]
  },
  {
   "cell_type": "code",
   "execution_count": 266,
   "metadata": {},
   "outputs": [
    {
     "data": {
      "text/plain": [
       "120.0"
      ]
     },
     "execution_count": 266,
     "metadata": {},
     "output_type": "execute_result"
    }
   ],
   "source": [
    "df['Systolic_BP_Avg'].median()"
   ]
  },
  {
   "cell_type": "code",
   "execution_count": 267,
   "metadata": {},
   "outputs": [
    {
     "data": {
      "text/plain": [
       "77"
      ]
     },
     "execution_count": 267,
     "metadata": {},
     "output_type": "execute_result"
    }
   ],
   "source": [
    "len(df[df['Systolic_BP_Avg'] == 119.33333333333331])"
   ]
  },
  {
   "cell_type": "code",
   "execution_count": 268,
   "metadata": {},
   "outputs": [
    {
     "data": {
      "text/plain": [
       "303"
      ]
     },
     "execution_count": 268,
     "metadata": {},
     "output_type": "execute_result"
    }
   ],
   "source": [
    "df['Systolic_BP_Avg'].isna().sum()"
   ]
  },
  {
   "cell_type": "code",
   "execution_count": 269,
   "metadata": {},
   "outputs": [],
   "source": [
    "df['Systolic_BP_Avg'].fillna(df['Systolic_BP_Avg'].median(), inplace=True)"
   ]
  },
  {
   "cell_type": "code",
   "execution_count": 270,
   "metadata": {},
   "outputs": [
    {
     "data": {
      "text/plain": [
       "77"
      ]
     },
     "execution_count": 270,
     "metadata": {},
     "output_type": "execute_result"
    }
   ],
   "source": [
    "len(df[df['Systolic_BP_Avg'] == 119.33333333333331])"
   ]
  },
  {
   "cell_type": "code",
   "execution_count": 271,
   "metadata": {},
   "outputs": [
    {
     "data": {
      "text/plain": [
       "71.33333333333333"
      ]
     },
     "execution_count": 271,
     "metadata": {},
     "output_type": "execute_result"
    }
   ],
   "source": [
    "df['Diastolic_BP_Avg'].median()"
   ]
  },
  {
   "cell_type": "code",
   "execution_count": 272,
   "metadata": {},
   "outputs": [
    {
     "data": {
      "text/plain": [
       "303"
      ]
     },
     "execution_count": 272,
     "metadata": {},
     "output_type": "execute_result"
    }
   ],
   "source": [
    "df['Diastolic_BP_Avg'].isna().sum()"
   ]
  },
  {
   "cell_type": "code",
   "execution_count": 273,
   "metadata": {},
   "outputs": [],
   "source": [
    "df['Diastolic_BP_Avg'].fillna(df['Diastolic_BP_Avg'].median(), inplace=True)"
   ]
  },
  {
   "cell_type": "code",
   "execution_count": 274,
   "metadata": {},
   "outputs": [
    {
     "data": {
      "text/plain": [
       "0"
      ]
     },
     "execution_count": 274,
     "metadata": {},
     "output_type": "execute_result"
    }
   ],
   "source": [
    "df['Systolic_BP_Avg'].isna().sum()"
   ]
  },
  {
   "cell_type": "code",
   "execution_count": 275,
   "metadata": {},
   "outputs": [
    {
     "data": {
      "text/plain": [
       "72.0"
      ]
     },
     "execution_count": 275,
     "metadata": {},
     "output_type": "execute_result"
    }
   ],
   "source": [
    "df['Heart_Rate'].median()"
   ]
  },
  {
   "cell_type": "code",
   "execution_count": 276,
   "metadata": {},
   "outputs": [
    {
     "data": {
      "text/plain": [
       "278"
      ]
     },
     "execution_count": 276,
     "metadata": {},
     "output_type": "execute_result"
    }
   ],
   "source": [
    "len(df[df['Heart_Rate'] == 72])"
   ]
  },
  {
   "cell_type": "code",
   "execution_count": 277,
   "metadata": {},
   "outputs": [
    {
     "data": {
      "text/plain": [
       "300"
      ]
     },
     "execution_count": 277,
     "metadata": {},
     "output_type": "execute_result"
    }
   ],
   "source": [
    "df['Heart_Rate'].isna().sum()"
   ]
  },
  {
   "cell_type": "code",
   "execution_count": 278,
   "metadata": {},
   "outputs": [],
   "source": [
    "df['Heart_Rate'].fillna(df['Heart_Rate'].median(), inplace=True)"
   ]
  },
  {
   "cell_type": "code",
   "execution_count": 279,
   "metadata": {},
   "outputs": [
    {
     "data": {
      "text/plain": [
       "578"
      ]
     },
     "execution_count": 279,
     "metadata": {},
     "output_type": "execute_result"
    }
   ],
   "source": [
    "len(df[df['Heart_Rate'] == 72])"
   ]
  },
  {
   "cell_type": "code",
   "execution_count": 280,
   "metadata": {},
   "outputs": [],
   "source": [
    "df['Weight_kg'].fillna(df['Weight_kg'].median(), inplace=True)\n",
    "df['Height_cm'].fillna(df['Height_cm'].median(), inplace=True)\n",
    "df['BMI'].fillna(df['BMI'].median(), inplace=True)\n",
    "df['Waist_cm'].fillna(df['Waist_cm'].median(), inplace=True)\n",
    "df['Avg_Num_Alcohol_Drink_a_Day'].fillna(df['Avg_Num_Alcohol_Drink_a_Day'].median(), inplace=True)\n",
    "df['Money_spent_at_supermarket_grocery_store'].fillna(df['Money_spent_at_supermarket_grocery_store'].median(), inplace=True)\n",
    "df['Money_spent_on_food_at_other_stores'].fillna(df['Money_spent_on_food_at_other_stores'].median(), inplace=True)\n",
    "df['Money_spent_eating_out'].fillna(df['Money_spent_eating_out'].median(), inplace=True)\n",
    "df['Money_spent_carryout_delivered_foods'].fillna(df['Money_spent_carryout_delivered_foods'].median(), inplace=True)\n",
    "df['Meals_not_home_prepared'].fillna(df['Meals_not_home_prepared'].median(), inplace=True)\n",
    "df['Past_30day_ready_to_eat_foods'].fillna(df['Past_30day_ready_to_eat_foods'].median(), inplace=True)\n",
    "df['Past_30day_frozen_meals_pizza'].fillna(df['Past_30day_frozen_meals_pizza'].median(), inplace=True)\n"
   ]
  },
  {
   "cell_type": "code",
   "execution_count": 281,
   "metadata": {},
   "outputs": [
    {
     "data": {
      "text/plain": [
       "SEQN                                          0\n",
       "Gender                                        0\n",
       "Age                                           0\n",
       "Race                                          0\n",
       "Country_Born                                  0\n",
       "Family_Income                               297\n",
       "Heart_Rate                                    0\n",
       "Pulse_Regular_Irregular                       0\n",
       "Systolic_BP_Avg                               0\n",
       "Diastolic_BP_Avg                              0\n",
       "Weight_kg                                     0\n",
       "Height_cm                                     0\n",
       "BMI                                           0\n",
       "Waist_cm                                      0\n",
       "Avg_Num_Alcohol_Drink_a_Day                   0\n",
       "Have_4_5_Plus_Drinks_a_Day                    0\n",
       "Ever_told_high_blood_pressure                 0\n",
       "Ever_told_high_cholesterol                    0\n",
       "Money_spent_at_supermarket_grocery_store      0\n",
       "Money_spent_on_food_at_other_stores           0\n",
       "Money_spent_eating_out                        0\n",
       "Money_spent_carryout_delivered_foods          0\n",
       "Doctor_told_you_have_diabetes                 0\n",
       "Past_30day_milk_consumption                   0\n",
       "Meals_not_home_prepared                       0\n",
       "Past_30day_ready_to_eat_foods                 0\n",
       "Past_30day_frozen_meals_pizza                 0\n",
       "Doctor_told_you_overweight                    0\n",
       "Doctor_told_you_lose_weight                   0\n",
       "Doctor_told_you_exercise                      0\n",
       "Doctor_told_you_reduce_salt                   0\n",
       "Doctor_told_you_reduce_fat_calories           0\n",
       "Walk_or_bicycle                               0\n",
       "Vigorous_recreational_activities              0\n",
       "Moderate_recreational_activities              0\n",
       "Smoked_at_least_100_cigarettes_in_life        0\n",
       "Do_you_now_smoke_cigarettes                   0\n",
       "Target                                        0\n",
       "dtype: int64"
      ]
     },
     "execution_count": 281,
     "metadata": {},
     "output_type": "execute_result"
    }
   ],
   "source": [
    "df.isna().sum()"
   ]
  },
  {
   "cell_type": "code",
   "execution_count": 282,
   "metadata": {},
   "outputs": [
    {
     "data": {
      "text/plain": [
       "15.0    730\n",
       "6.0     468\n",
       "14.0    418\n",
       "7.0     398\n",
       "8.0     377\n",
       "9.0     281\n",
       "5.0     264\n",
       "4.0     257\n",
       "3.0     246\n",
       "10.0    221\n",
       "2.0     175\n",
       "1.0     156\n",
       "12.0     85\n",
       "13.0     50\n",
       "Name: Family_Income, dtype: int64"
      ]
     },
     "execution_count": 282,
     "metadata": {},
     "output_type": "execute_result"
    }
   ],
   "source": [
    "df['Family_Income'].value_counts()"
   ]
  },
  {
   "cell_type": "code",
   "execution_count": 283,
   "metadata": {},
   "outputs": [],
   "source": [
    "df['Family_Income'].fillna(15,inplace=True)"
   ]
  },
  {
   "cell_type": "code",
   "execution_count": 284,
   "metadata": {},
   "outputs": [
    {
     "data": {
      "text/plain": [
       "15.0    1027\n",
       "6.0      468\n",
       "14.0     418\n",
       "7.0      398\n",
       "8.0      377\n",
       "9.0      281\n",
       "5.0      264\n",
       "4.0      257\n",
       "3.0      246\n",
       "10.0     221\n",
       "2.0      175\n",
       "1.0      156\n",
       "12.0      85\n",
       "13.0      50\n",
       "Name: Family_Income, dtype: int64"
      ]
     },
     "execution_count": 284,
     "metadata": {},
     "output_type": "execute_result"
    }
   ],
   "source": [
    "df['Family_Income'].value_counts()"
   ]
  },
  {
   "cell_type": "code",
   "execution_count": 285,
   "metadata": {},
   "outputs": [
    {
     "data": {
      "text/plain": [
       "SEQN                                        0\n",
       "Gender                                      0\n",
       "Age                                         0\n",
       "Race                                        0\n",
       "Country_Born                                0\n",
       "Family_Income                               0\n",
       "Heart_Rate                                  0\n",
       "Pulse_Regular_Irregular                     0\n",
       "Systolic_BP_Avg                             0\n",
       "Diastolic_BP_Avg                            0\n",
       "Weight_kg                                   0\n",
       "Height_cm                                   0\n",
       "BMI                                         0\n",
       "Waist_cm                                    0\n",
       "Avg_Num_Alcohol_Drink_a_Day                 0\n",
       "Have_4_5_Plus_Drinks_a_Day                  0\n",
       "Ever_told_high_blood_pressure               0\n",
       "Ever_told_high_cholesterol                  0\n",
       "Money_spent_at_supermarket_grocery_store    0\n",
       "Money_spent_on_food_at_other_stores         0\n",
       "Money_spent_eating_out                      0\n",
       "Money_spent_carryout_delivered_foods        0\n",
       "Doctor_told_you_have_diabetes               0\n",
       "Past_30day_milk_consumption                 0\n",
       "Meals_not_home_prepared                     0\n",
       "Past_30day_ready_to_eat_foods               0\n",
       "Past_30day_frozen_meals_pizza               0\n",
       "Doctor_told_you_overweight                  0\n",
       "Doctor_told_you_lose_weight                 0\n",
       "Doctor_told_you_exercise                    0\n",
       "Doctor_told_you_reduce_salt                 0\n",
       "Doctor_told_you_reduce_fat_calories         0\n",
       "Walk_or_bicycle                             0\n",
       "Vigorous_recreational_activities            0\n",
       "Moderate_recreational_activities            0\n",
       "Smoked_at_least_100_cigarettes_in_life      0\n",
       "Do_you_now_smoke_cigarettes                 0\n",
       "Target                                      0\n",
       "dtype: int64"
      ]
     },
     "execution_count": 285,
     "metadata": {},
     "output_type": "execute_result"
    }
   ],
   "source": [
    "df.isna().sum()"
   ]
  },
  {
   "cell_type": "code",
   "execution_count": 286,
   "metadata": {},
   "outputs": [
    {
     "data": {
      "text/plain": [
       "1.0    4358\n",
       "2.0      65\n",
       "Name: Pulse_Regular_Irregular, dtype: int64"
      ]
     },
     "execution_count": 286,
     "metadata": {},
     "output_type": "execute_result"
    }
   ],
   "source": [
    "df['Pulse_Regular_Irregular'].value_counts()"
   ]
  },
  {
   "cell_type": "code",
   "execution_count": 287,
   "metadata": {},
   "outputs": [],
   "source": [
    "df.loc[df['Pulse_Regular_Irregular'] == 1, 'Pulse_Regular_Irregular'] = 0"
   ]
  },
  {
   "cell_type": "code",
   "execution_count": 288,
   "metadata": {},
   "outputs": [],
   "source": [
    "df.loc[df['Pulse_Regular_Irregular'] == 2, 'Pulse_Regular_Irregular'] = 1"
   ]
  },
  {
   "cell_type": "code",
   "execution_count": 289,
   "metadata": {},
   "outputs": [
    {
     "data": {
      "text/plain": [
       "0.0    4358\n",
       "1.0      65\n",
       "Name: Pulse_Regular_Irregular, dtype: int64"
      ]
     },
     "execution_count": 289,
     "metadata": {},
     "output_type": "execute_result"
    }
   ],
   "source": [
    "df['Pulse_Regular_Irregular'].value_counts()"
   ]
  },
  {
   "cell_type": "code",
   "execution_count": 290,
   "metadata": {},
   "outputs": [],
   "source": [
    "df.rename(columns={'Pulse_Regular_Irregular': 'Irregular_Pulse'}, inplace=True)"
   ]
  },
  {
   "cell_type": "code",
   "execution_count": 291,
   "metadata": {},
   "outputs": [
    {
     "data": {
      "text/plain": [
       "0.0    4358\n",
       "1.0      65\n",
       "Name: Irregular_Pulse, dtype: int64"
      ]
     },
     "execution_count": 291,
     "metadata": {},
     "output_type": "execute_result"
    }
   ],
   "source": [
    "df['Irregular_Pulse'].value_counts()"
   ]
  },
  {
   "cell_type": "code",
   "execution_count": 292,
   "metadata": {},
   "outputs": [
    {
     "data": {
      "text/plain": [
       "2.0    3883\n",
       "1.0     540\n",
       "Name: Have_4_5_Plus_Drinks_a_Day, dtype: int64"
      ]
     },
     "execution_count": 292,
     "metadata": {},
     "output_type": "execute_result"
    }
   ],
   "source": [
    "df['Have_4_5_Plus_Drinks_a_Day'].value_counts()"
   ]
  },
  {
   "cell_type": "code",
   "execution_count": 293,
   "metadata": {},
   "outputs": [],
   "source": [
    "df.loc[df['Have_4_5_Plus_Drinks_a_Day'] == 2, 'Have_4_5_Plus_Drinks_a_Day']=0"
   ]
  },
  {
   "cell_type": "code",
   "execution_count": 294,
   "metadata": {},
   "outputs": [],
   "source": [
    "df.loc[df['Ever_told_high_blood_pressure'] == 2, 'Ever_told_high_blood_pressure']=0"
   ]
  },
  {
   "cell_type": "code",
   "execution_count": 295,
   "metadata": {},
   "outputs": [],
   "source": [
    "df.loc[df['Ever_told_high_cholesterol'] == 2, 'Ever_told_high_cholesterol']=0"
   ]
  },
  {
   "cell_type": "code",
   "execution_count": 296,
   "metadata": {},
   "outputs": [],
   "source": [
    "df.loc[df['Doctor_told_you_have_diabetes'] == 2, 'Doctor_told_you_have_diabetes']=0"
   ]
  },
  {
   "cell_type": "code",
   "execution_count": 297,
   "metadata": {},
   "outputs": [],
   "source": [
    "df.loc[df['Doctor_told_you_overweight'] == 2, 'Doctor_told_you_overweight']=0\n",
    "df.loc[df['Doctor_told_you_lose_weight'] == 2, 'Doctor_told_you_lose_weight']=0\n",
    "df.loc[df['Doctor_told_you_exercise'] == 2, 'Doctor_told_you_exercise']=0\n",
    "df.loc[df['Doctor_told_you_reduce_salt'] == 2, 'Doctor_told_you_reduce_salt']=0\n",
    "df.loc[df['Doctor_told_you_reduce_fat_calories'] == 2, 'Doctor_told_you_reduce_fat_calories']=0\n",
    "df.loc[df['Walk_or_bicycle'] == 2, 'Walk_or_bicycle']=0\n",
    "df.loc[df['Vigorous_recreational_activities'] == 2, 'Vigorous_recreational_activities']=0\n",
    "df.loc[df['Moderate_recreational_activities'] == 2, 'Moderate_recreational_activities']=0\n",
    "df.loc[df['Smoked_at_least_100_cigarettes_in_life'] == 2, 'Smoked_at_least_100_cigarettes_in_life']=0"
   ]
  },
  {
   "cell_type": "code",
   "execution_count": 298,
   "metadata": {},
   "outputs": [],
   "source": [
    "cols_for_dummies = ['Past_30day_milk_consumption', 'Do_you_now_smoke_cigarettes']"
   ]
  },
  {
   "cell_type": "code",
   "execution_count": 299,
   "metadata": {},
   "outputs": [],
   "source": [
    "df_master = pd.get_dummies(df, columns=cols_for_dummies)"
   ]
  },
  {
   "cell_type": "code",
   "execution_count": 300,
   "metadata": {},
   "outputs": [
    {
     "data": {
      "text/html": [
       "<div>\n",
       "<style scoped>\n",
       "    .dataframe tbody tr th:only-of-type {\n",
       "        vertical-align: middle;\n",
       "    }\n",
       "\n",
       "    .dataframe tbody tr th {\n",
       "        vertical-align: top;\n",
       "    }\n",
       "\n",
       "    .dataframe thead th {\n",
       "        text-align: right;\n",
       "    }\n",
       "</style>\n",
       "<table border=\"1\" class=\"dataframe\">\n",
       "  <thead>\n",
       "    <tr style=\"text-align: right;\">\n",
       "      <th></th>\n",
       "      <th>SEQN</th>\n",
       "      <th>Gender</th>\n",
       "      <th>Age</th>\n",
       "      <th>Race</th>\n",
       "      <th>Country_Born</th>\n",
       "      <th>Family_Income</th>\n",
       "      <th>Heart_Rate</th>\n",
       "      <th>Irregular_Pulse</th>\n",
       "      <th>Systolic_BP_Avg</th>\n",
       "      <th>Diastolic_BP_Avg</th>\n",
       "      <th>...</th>\n",
       "      <th>Smoked_at_least_100_cigarettes_in_life</th>\n",
       "      <th>Target</th>\n",
       "      <th>Past_30day_milk_consumption_0.0</th>\n",
       "      <th>Past_30day_milk_consumption_1.0</th>\n",
       "      <th>Past_30day_milk_consumption_2.0</th>\n",
       "      <th>Past_30day_milk_consumption_3.0</th>\n",
       "      <th>Past_30day_milk_consumption_4.0</th>\n",
       "      <th>Do_you_now_smoke_cigarettes_1.0</th>\n",
       "      <th>Do_you_now_smoke_cigarettes_2.0</th>\n",
       "      <th>Do_you_now_smoke_cigarettes_3.0</th>\n",
       "    </tr>\n",
       "  </thead>\n",
       "  <tbody>\n",
       "    <tr>\n",
       "      <th>0</th>\n",
       "      <td>83732.0</td>\n",
       "      <td>1.0</td>\n",
       "      <td>62.0</td>\n",
       "      <td>3.0</td>\n",
       "      <td>1.0</td>\n",
       "      <td>10.0</td>\n",
       "      <td>76.0</td>\n",
       "      <td>0.0</td>\n",
       "      <td>122.666667</td>\n",
       "      <td>65.333333</td>\n",
       "      <td>...</td>\n",
       "      <td>1.0</td>\n",
       "      <td>2.0</td>\n",
       "      <td>0</td>\n",
       "      <td>0</td>\n",
       "      <td>0</td>\n",
       "      <td>1</td>\n",
       "      <td>0</td>\n",
       "      <td>0</td>\n",
       "      <td>0</td>\n",
       "      <td>1</td>\n",
       "    </tr>\n",
       "    <tr>\n",
       "      <th>1</th>\n",
       "      <td>83733.0</td>\n",
       "      <td>1.0</td>\n",
       "      <td>53.0</td>\n",
       "      <td>3.0</td>\n",
       "      <td>2.0</td>\n",
       "      <td>4.0</td>\n",
       "      <td>72.0</td>\n",
       "      <td>0.0</td>\n",
       "      <td>140.000000</td>\n",
       "      <td>86.000000</td>\n",
       "      <td>...</td>\n",
       "      <td>1.0</td>\n",
       "      <td>2.0</td>\n",
       "      <td>1</td>\n",
       "      <td>0</td>\n",
       "      <td>0</td>\n",
       "      <td>0</td>\n",
       "      <td>0</td>\n",
       "      <td>1</td>\n",
       "      <td>0</td>\n",
       "      <td>0</td>\n",
       "    </tr>\n",
       "    <tr>\n",
       "      <th>2</th>\n",
       "      <td>83735.0</td>\n",
       "      <td>2.0</td>\n",
       "      <td>56.0</td>\n",
       "      <td>3.0</td>\n",
       "      <td>1.0</td>\n",
       "      <td>10.0</td>\n",
       "      <td>78.0</td>\n",
       "      <td>0.0</td>\n",
       "      <td>134.000000</td>\n",
       "      <td>70.000000</td>\n",
       "      <td>...</td>\n",
       "      <td>0.0</td>\n",
       "      <td>2.0</td>\n",
       "      <td>1</td>\n",
       "      <td>0</td>\n",
       "      <td>0</td>\n",
       "      <td>0</td>\n",
       "      <td>0</td>\n",
       "      <td>0</td>\n",
       "      <td>0</td>\n",
       "      <td>1</td>\n",
       "    </tr>\n",
       "    <tr>\n",
       "      <th>3</th>\n",
       "      <td>83736.0</td>\n",
       "      <td>2.0</td>\n",
       "      <td>42.0</td>\n",
       "      <td>4.0</td>\n",
       "      <td>1.0</td>\n",
       "      <td>7.0</td>\n",
       "      <td>76.0</td>\n",
       "      <td>0.0</td>\n",
       "      <td>104.000000</td>\n",
       "      <td>60.000000</td>\n",
       "      <td>...</td>\n",
       "      <td>0.0</td>\n",
       "      <td>2.0</td>\n",
       "      <td>1</td>\n",
       "      <td>0</td>\n",
       "      <td>0</td>\n",
       "      <td>0</td>\n",
       "      <td>0</td>\n",
       "      <td>0</td>\n",
       "      <td>0</td>\n",
       "      <td>1</td>\n",
       "    </tr>\n",
       "    <tr>\n",
       "      <th>4</th>\n",
       "      <td>83741.0</td>\n",
       "      <td>1.0</td>\n",
       "      <td>22.0</td>\n",
       "      <td>4.0</td>\n",
       "      <td>1.0</td>\n",
       "      <td>7.0</td>\n",
       "      <td>66.0</td>\n",
       "      <td>0.0</td>\n",
       "      <td>111.333333</td>\n",
       "      <td>72.666667</td>\n",
       "      <td>...</td>\n",
       "      <td>1.0</td>\n",
       "      <td>2.0</td>\n",
       "      <td>0</td>\n",
       "      <td>0</td>\n",
       "      <td>1</td>\n",
       "      <td>0</td>\n",
       "      <td>0</td>\n",
       "      <td>0</td>\n",
       "      <td>1</td>\n",
       "      <td>0</td>\n",
       "    </tr>\n",
       "  </tbody>\n",
       "</table>\n",
       "<p>5 rows × 44 columns</p>\n",
       "</div>"
      ],
      "text/plain": [
       "      SEQN  Gender   Age  Race  Country_Born  Family_Income  Heart_Rate  \\\n",
       "0  83732.0     1.0  62.0   3.0           1.0           10.0        76.0   \n",
       "1  83733.0     1.0  53.0   3.0           2.0            4.0        72.0   \n",
       "2  83735.0     2.0  56.0   3.0           1.0           10.0        78.0   \n",
       "3  83736.0     2.0  42.0   4.0           1.0            7.0        76.0   \n",
       "4  83741.0     1.0  22.0   4.0           1.0            7.0        66.0   \n",
       "\n",
       "   Irregular_Pulse  Systolic_BP_Avg  Diastolic_BP_Avg  \\\n",
       "0              0.0       122.666667         65.333333   \n",
       "1              0.0       140.000000         86.000000   \n",
       "2              0.0       134.000000         70.000000   \n",
       "3              0.0       104.000000         60.000000   \n",
       "4              0.0       111.333333         72.666667   \n",
       "\n",
       "                ...                 Smoked_at_least_100_cigarettes_in_life  \\\n",
       "0               ...                                                    1.0   \n",
       "1               ...                                                    1.0   \n",
       "2               ...                                                    0.0   \n",
       "3               ...                                                    0.0   \n",
       "4               ...                                                    1.0   \n",
       "\n",
       "   Target  Past_30day_milk_consumption_0.0  Past_30day_milk_consumption_1.0  \\\n",
       "0     2.0                                0                                0   \n",
       "1     2.0                                1                                0   \n",
       "2     2.0                                1                                0   \n",
       "3     2.0                                1                                0   \n",
       "4     2.0                                0                                0   \n",
       "\n",
       "   Past_30day_milk_consumption_2.0  Past_30day_milk_consumption_3.0  \\\n",
       "0                                0                                1   \n",
       "1                                0                                0   \n",
       "2                                0                                0   \n",
       "3                                0                                0   \n",
       "4                                1                                0   \n",
       "\n",
       "   Past_30day_milk_consumption_4.0  Do_you_now_smoke_cigarettes_1.0  \\\n",
       "0                                0                                0   \n",
       "1                                0                                1   \n",
       "2                                0                                0   \n",
       "3                                0                                0   \n",
       "4                                0                                0   \n",
       "\n",
       "   Do_you_now_smoke_cigarettes_2.0  Do_you_now_smoke_cigarettes_3.0  \n",
       "0                                0                                1  \n",
       "1                                0                                0  \n",
       "2                                0                                1  \n",
       "3                                0                                1  \n",
       "4                                1                                0  \n",
       "\n",
       "[5 rows x 44 columns]"
      ]
     },
     "execution_count": 300,
     "metadata": {},
     "output_type": "execute_result"
    }
   ],
   "source": [
    "df_master.head()"
   ]
  },
  {
   "cell_type": "code",
   "execution_count": 301,
   "metadata": {},
   "outputs": [
    {
     "data": {
      "text/plain": [
       "Index(['SEQN', 'Gender', 'Age', 'Race', 'Country_Born', 'Family_Income',\n",
       "       'Heart_Rate', 'Irregular_Pulse', 'Systolic_BP_Avg', 'Diastolic_BP_Avg',\n",
       "       'Weight_kg', 'Height_cm', 'BMI', 'Waist_cm',\n",
       "       'Avg_Num_Alcohol_Drink_a_Day', 'Have_4_5_Plus_Drinks_a_Day',\n",
       "       'Ever_told_high_blood_pressure', 'Ever_told_high_cholesterol',\n",
       "       'Money_spent_at_supermarket_grocery_store',\n",
       "       'Money_spent_on_food_at_other_stores', 'Money_spent_eating_out',\n",
       "       'Money_spent_carryout_delivered_foods', 'Doctor_told_you_have_diabetes',\n",
       "       'Meals_not_home_prepared', 'Past_30day_ready_to_eat_foods',\n",
       "       'Past_30day_frozen_meals_pizza', 'Doctor_told_you_overweight',\n",
       "       'Doctor_told_you_lose_weight', 'Doctor_told_you_exercise',\n",
       "       'Doctor_told_you_reduce_salt', 'Doctor_told_you_reduce_fat_calories',\n",
       "       'Walk_or_bicycle', 'Vigorous_recreational_activities',\n",
       "       'Moderate_recreational_activities',\n",
       "       'Smoked_at_least_100_cigarettes_in_life', 'Target',\n",
       "       'Past_30day_milk_consumption_0.0', 'Past_30day_milk_consumption_1.0',\n",
       "       'Past_30day_milk_consumption_2.0', 'Past_30day_milk_consumption_3.0',\n",
       "       'Past_30day_milk_consumption_4.0', 'Do_you_now_smoke_cigarettes_1.0',\n",
       "       'Do_you_now_smoke_cigarettes_2.0', 'Do_you_now_smoke_cigarettes_3.0'],\n",
       "      dtype='object')"
      ]
     },
     "execution_count": 301,
     "metadata": {},
     "output_type": "execute_result"
    }
   ],
   "source": [
    "df_master.columns"
   ]
  },
  {
   "cell_type": "code",
   "execution_count": 302,
   "metadata": {},
   "outputs": [
    {
     "data": {
      "text/plain": [
       "(4423, 44)"
      ]
     },
     "execution_count": 302,
     "metadata": {},
     "output_type": "execute_result"
    }
   ],
   "source": [
    "df_master.shape"
   ]
  },
  {
   "cell_type": "code",
   "execution_count": 168,
   "metadata": {},
   "outputs": [],
   "source": [
    "df_master.to_csv('Master_Clean.csv')"
   ]
  },
  {
   "cell_type": "code",
   "execution_count": 303,
   "metadata": {},
   "outputs": [
    {
     "data": {
      "text/plain": [
       "Int64Index([   0,    1,    2,    3,    4,    5,    7,    8,    9,   10,\n",
       "            ...\n",
       "            4697, 4698, 4699, 4700, 4701, 4702, 4703, 4704, 4705, 4706],\n",
       "           dtype='int64', length=4423)"
      ]
     },
     "execution_count": 303,
     "metadata": {},
     "output_type": "execute_result"
    }
   ],
   "source": [
    "df_master.index"
   ]
  },
  {
   "cell_type": "code",
   "execution_count": 304,
   "metadata": {},
   "outputs": [
    {
     "data": {
      "text/html": [
       "<div>\n",
       "<style scoped>\n",
       "    .dataframe tbody tr th:only-of-type {\n",
       "        vertical-align: middle;\n",
       "    }\n",
       "\n",
       "    .dataframe tbody tr th {\n",
       "        vertical-align: top;\n",
       "    }\n",
       "\n",
       "    .dataframe thead th {\n",
       "        text-align: right;\n",
       "    }\n",
       "</style>\n",
       "<table border=\"1\" class=\"dataframe\">\n",
       "  <thead>\n",
       "    <tr style=\"text-align: right;\">\n",
       "      <th></th>\n",
       "      <th>SEQN</th>\n",
       "      <th>Gender</th>\n",
       "      <th>Age</th>\n",
       "      <th>Race</th>\n",
       "      <th>Country_Born</th>\n",
       "      <th>Family_Income</th>\n",
       "      <th>Heart_Rate</th>\n",
       "      <th>Irregular_Pulse</th>\n",
       "      <th>Systolic_BP_Avg</th>\n",
       "      <th>Diastolic_BP_Avg</th>\n",
       "      <th>...</th>\n",
       "      <th>Smoked_at_least_100_cigarettes_in_life</th>\n",
       "      <th>Target</th>\n",
       "      <th>Past_30day_milk_consumption_0.0</th>\n",
       "      <th>Past_30day_milk_consumption_1.0</th>\n",
       "      <th>Past_30day_milk_consumption_2.0</th>\n",
       "      <th>Past_30day_milk_consumption_3.0</th>\n",
       "      <th>Past_30day_milk_consumption_4.0</th>\n",
       "      <th>Do_you_now_smoke_cigarettes_1.0</th>\n",
       "      <th>Do_you_now_smoke_cigarettes_2.0</th>\n",
       "      <th>Do_you_now_smoke_cigarettes_3.0</th>\n",
       "    </tr>\n",
       "  </thead>\n",
       "  <tbody>\n",
       "    <tr>\n",
       "      <th>4702</th>\n",
       "      <td>93690.0</td>\n",
       "      <td>1.0</td>\n",
       "      <td>32.0</td>\n",
       "      <td>2.0</td>\n",
       "      <td>1.0</td>\n",
       "      <td>15.0</td>\n",
       "      <td>92.0</td>\n",
       "      <td>0.0</td>\n",
       "      <td>115.333333</td>\n",
       "      <td>62.000000</td>\n",
       "      <td>...</td>\n",
       "      <td>0.0</td>\n",
       "      <td>2.0</td>\n",
       "      <td>0</td>\n",
       "      <td>1</td>\n",
       "      <td>0</td>\n",
       "      <td>0</td>\n",
       "      <td>0</td>\n",
       "      <td>0</td>\n",
       "      <td>0</td>\n",
       "      <td>1</td>\n",
       "    </tr>\n",
       "    <tr>\n",
       "      <th>4703</th>\n",
       "      <td>93691.0</td>\n",
       "      <td>1.0</td>\n",
       "      <td>25.0</td>\n",
       "      <td>6.0</td>\n",
       "      <td>2.0</td>\n",
       "      <td>10.0</td>\n",
       "      <td>92.0</td>\n",
       "      <td>0.0</td>\n",
       "      <td>112.000000</td>\n",
       "      <td>76.000000</td>\n",
       "      <td>...</td>\n",
       "      <td>0.0</td>\n",
       "      <td>2.0</td>\n",
       "      <td>0</td>\n",
       "      <td>1</td>\n",
       "      <td>0</td>\n",
       "      <td>0</td>\n",
       "      <td>0</td>\n",
       "      <td>0</td>\n",
       "      <td>0</td>\n",
       "      <td>1</td>\n",
       "    </tr>\n",
       "    <tr>\n",
       "      <th>4704</th>\n",
       "      <td>93696.0</td>\n",
       "      <td>1.0</td>\n",
       "      <td>26.0</td>\n",
       "      <td>3.0</td>\n",
       "      <td>1.0</td>\n",
       "      <td>9.0</td>\n",
       "      <td>80.0</td>\n",
       "      <td>0.0</td>\n",
       "      <td>116.000000</td>\n",
       "      <td>72.000000</td>\n",
       "      <td>...</td>\n",
       "      <td>0.0</td>\n",
       "      <td>2.0</td>\n",
       "      <td>0</td>\n",
       "      <td>1</td>\n",
       "      <td>0</td>\n",
       "      <td>0</td>\n",
       "      <td>0</td>\n",
       "      <td>0</td>\n",
       "      <td>0</td>\n",
       "      <td>1</td>\n",
       "    </tr>\n",
       "    <tr>\n",
       "      <th>4705</th>\n",
       "      <td>93700.0</td>\n",
       "      <td>1.0</td>\n",
       "      <td>35.0</td>\n",
       "      <td>3.0</td>\n",
       "      <td>2.0</td>\n",
       "      <td>1.0</td>\n",
       "      <td>76.0</td>\n",
       "      <td>0.0</td>\n",
       "      <td>104.666667</td>\n",
       "      <td>65.333333</td>\n",
       "      <td>...</td>\n",
       "      <td>1.0</td>\n",
       "      <td>2.0</td>\n",
       "      <td>1</td>\n",
       "      <td>0</td>\n",
       "      <td>0</td>\n",
       "      <td>0</td>\n",
       "      <td>0</td>\n",
       "      <td>1</td>\n",
       "      <td>0</td>\n",
       "      <td>0</td>\n",
       "    </tr>\n",
       "    <tr>\n",
       "      <th>4706</th>\n",
       "      <td>93702.0</td>\n",
       "      <td>2.0</td>\n",
       "      <td>24.0</td>\n",
       "      <td>3.0</td>\n",
       "      <td>1.0</td>\n",
       "      <td>7.0</td>\n",
       "      <td>80.0</td>\n",
       "      <td>0.0</td>\n",
       "      <td>118.666667</td>\n",
       "      <td>66.000000</td>\n",
       "      <td>...</td>\n",
       "      <td>0.0</td>\n",
       "      <td>2.0</td>\n",
       "      <td>0</td>\n",
       "      <td>1</td>\n",
       "      <td>0</td>\n",
       "      <td>0</td>\n",
       "      <td>0</td>\n",
       "      <td>0</td>\n",
       "      <td>0</td>\n",
       "      <td>1</td>\n",
       "    </tr>\n",
       "  </tbody>\n",
       "</table>\n",
       "<p>5 rows × 44 columns</p>\n",
       "</div>"
      ],
      "text/plain": [
       "         SEQN  Gender   Age  Race  Country_Born  Family_Income  Heart_Rate  \\\n",
       "4702  93690.0     1.0  32.0   2.0           1.0           15.0        92.0   \n",
       "4703  93691.0     1.0  25.0   6.0           2.0           10.0        92.0   \n",
       "4704  93696.0     1.0  26.0   3.0           1.0            9.0        80.0   \n",
       "4705  93700.0     1.0  35.0   3.0           2.0            1.0        76.0   \n",
       "4706  93702.0     2.0  24.0   3.0           1.0            7.0        80.0   \n",
       "\n",
       "      Irregular_Pulse  Systolic_BP_Avg  Diastolic_BP_Avg  \\\n",
       "4702              0.0       115.333333         62.000000   \n",
       "4703              0.0       112.000000         76.000000   \n",
       "4704              0.0       116.000000         72.000000   \n",
       "4705              0.0       104.666667         65.333333   \n",
       "4706              0.0       118.666667         66.000000   \n",
       "\n",
       "                   ...                 Smoked_at_least_100_cigarettes_in_life  \\\n",
       "4702               ...                                                    0.0   \n",
       "4703               ...                                                    0.0   \n",
       "4704               ...                                                    0.0   \n",
       "4705               ...                                                    1.0   \n",
       "4706               ...                                                    0.0   \n",
       "\n",
       "      Target  Past_30day_milk_consumption_0.0  \\\n",
       "4702     2.0                                0   \n",
       "4703     2.0                                0   \n",
       "4704     2.0                                0   \n",
       "4705     2.0                                1   \n",
       "4706     2.0                                0   \n",
       "\n",
       "      Past_30day_milk_consumption_1.0  Past_30day_milk_consumption_2.0  \\\n",
       "4702                                1                                0   \n",
       "4703                                1                                0   \n",
       "4704                                1                                0   \n",
       "4705                                0                                0   \n",
       "4706                                1                                0   \n",
       "\n",
       "      Past_30day_milk_consumption_3.0  Past_30day_milk_consumption_4.0  \\\n",
       "4702                                0                                0   \n",
       "4703                                0                                0   \n",
       "4704                                0                                0   \n",
       "4705                                0                                0   \n",
       "4706                                0                                0   \n",
       "\n",
       "      Do_you_now_smoke_cigarettes_1.0  Do_you_now_smoke_cigarettes_2.0  \\\n",
       "4702                                0                                0   \n",
       "4703                                0                                0   \n",
       "4704                                0                                0   \n",
       "4705                                1                                0   \n",
       "4706                                0                                0   \n",
       "\n",
       "      Do_you_now_smoke_cigarettes_3.0  \n",
       "4702                                1  \n",
       "4703                                1  \n",
       "4704                                1  \n",
       "4705                                0  \n",
       "4706                                1  \n",
       "\n",
       "[5 rows x 44 columns]"
      ]
     },
     "execution_count": 304,
     "metadata": {},
     "output_type": "execute_result"
    }
   ],
   "source": [
    "df_master.tail()"
   ]
  },
  {
   "cell_type": "code",
   "execution_count": 305,
   "metadata": {},
   "outputs": [],
   "source": [
    "more_cols_for_dummies = ['Gender', 'Race', 'Country_Born', 'Family_Income']"
   ]
  },
  {
   "cell_type": "code",
   "execution_count": 306,
   "metadata": {},
   "outputs": [],
   "source": [
    "df_master_new = pd.get_dummies(df_master, columns=more_cols_for_dummies)"
   ]
  },
  {
   "cell_type": "code",
   "execution_count": 307,
   "metadata": {},
   "outputs": [
    {
     "data": {
      "text/plain": [
       "(4423, 64)"
      ]
     },
     "execution_count": 307,
     "metadata": {},
     "output_type": "execute_result"
    }
   ],
   "source": [
    "df_master_new.shape"
   ]
  },
  {
   "cell_type": "code",
   "execution_count": 174,
   "metadata": {},
   "outputs": [],
   "source": [
    "df_master_new.to_csv('Master_Clean.csv')"
   ]
  },
  {
   "cell_type": "code",
   "execution_count": 308,
   "metadata": {},
   "outputs": [
    {
     "data": {
      "text/plain": [
       "(4423, 64)"
      ]
     },
     "execution_count": 308,
     "metadata": {},
     "output_type": "execute_result"
    }
   ],
   "source": [
    "df_master_new.shape"
   ]
  },
  {
   "cell_type": "code",
   "execution_count": 309,
   "metadata": {},
   "outputs": [
    {
     "data": {
      "text/plain": [
       "2.0    4343\n",
       "1.0      80\n",
       "Name: Target, dtype: int64"
      ]
     },
     "execution_count": 309,
     "metadata": {},
     "output_type": "execute_result"
    }
   ],
   "source": [
    "df_master_new['Target'].value_counts()"
   ]
  },
  {
   "cell_type": "code",
   "execution_count": 310,
   "metadata": {},
   "outputs": [],
   "source": [
    "df_master_new.loc[df_master_new['Target'] == 2, 'Target'] = 0"
   ]
  },
  {
   "cell_type": "code",
   "execution_count": 311,
   "metadata": {},
   "outputs": [
    {
     "data": {
      "text/plain": [
       "0.0    4343\n",
       "1.0      80\n",
       "Name: Target, dtype: int64"
      ]
     },
     "execution_count": 311,
     "metadata": {},
     "output_type": "execute_result"
    }
   ],
   "source": [
    "df_master_new['Target'].value_counts()"
   ]
  },
  {
   "cell_type": "code",
   "execution_count": 312,
   "metadata": {},
   "outputs": [],
   "source": [
    "df_master_new.to_csv('Master_Clean.csv')"
   ]
  },
  {
   "cell_type": "code",
   "execution_count": null,
   "metadata": {},
   "outputs": [],
   "source": []
  },
  {
   "cell_type": "code",
   "execution_count": null,
   "metadata": {},
   "outputs": [],
   "source": []
  },
  {
   "cell_type": "code",
   "execution_count": null,
   "metadata": {},
   "outputs": [],
   "source": []
  }
 ],
 "metadata": {
  "kernelspec": {
   "display_name": "Python 3",
   "language": "python",
   "name": "python3"
  },
  "language_info": {
   "codemirror_mode": {
    "name": "ipython",
    "version": 3
   },
   "file_extension": ".py",
   "mimetype": "text/x-python",
   "name": "python",
   "nbconvert_exporter": "python",
   "pygments_lexer": "ipython3",
   "version": "3.7.1"
  }
 },
 "nbformat": 4,
 "nbformat_minor": 2
}
