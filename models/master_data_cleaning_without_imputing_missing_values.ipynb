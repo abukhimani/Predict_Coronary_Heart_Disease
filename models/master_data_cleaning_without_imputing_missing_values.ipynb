{
 "cells": [
  {
   "cell_type": "code",
   "execution_count": 1,
   "metadata": {},
   "outputs": [],
   "source": [
    "import pandas as pd"
   ]
  },
  {
   "cell_type": "code",
   "execution_count": 2,
   "metadata": {},
   "outputs": [],
   "source": [
    "df = pd.read_csv('Master_Data.csv', index_col=0)"
   ]
  },
  {
   "cell_type": "code",
   "execution_count": 3,
   "metadata": {},
   "outputs": [
    {
     "data": {
      "text/html": [
       "<div>\n",
       "<style scoped>\n",
       "    .dataframe tbody tr th:only-of-type {\n",
       "        vertical-align: middle;\n",
       "    }\n",
       "\n",
       "    .dataframe tbody tr th {\n",
       "        vertical-align: top;\n",
       "    }\n",
       "\n",
       "    .dataframe thead th {\n",
       "        text-align: right;\n",
       "    }\n",
       "</style>\n",
       "<table border=\"1\" class=\"dataframe\">\n",
       "  <thead>\n",
       "    <tr style=\"text-align: right;\">\n",
       "      <th></th>\n",
       "      <th>SEQN</th>\n",
       "      <th>Gender</th>\n",
       "      <th>Age</th>\n",
       "      <th>Race</th>\n",
       "      <th>Country_Born</th>\n",
       "      <th>Family_Income</th>\n",
       "      <th>Heart_Rate</th>\n",
       "      <th>Pulse_Regular_Irregular</th>\n",
       "      <th>Systolic_BP_Avg</th>\n",
       "      <th>Diastolic_BP_Avg</th>\n",
       "      <th>...</th>\n",
       "      <th>Doctor_told_you_lose_weight</th>\n",
       "      <th>Doctor_told_you_exercise</th>\n",
       "      <th>Doctor_told_you_reduce_salt</th>\n",
       "      <th>Doctor_told_you_reduce_fat_calories</th>\n",
       "      <th>Walk_or_bicycle</th>\n",
       "      <th>Vigorous_recreational_activities</th>\n",
       "      <th>Moderate_recreational_activities</th>\n",
       "      <th>Smoked_at_least_100_cigarettes_in_life</th>\n",
       "      <th>Do_you_now_smoke_cigarettes</th>\n",
       "      <th>Target</th>\n",
       "    </tr>\n",
       "  </thead>\n",
       "  <tbody>\n",
       "    <tr>\n",
       "      <th>0</th>\n",
       "      <td>83732.0</td>\n",
       "      <td>1.0</td>\n",
       "      <td>62.0</td>\n",
       "      <td>3.0</td>\n",
       "      <td>1.0</td>\n",
       "      <td>10.0</td>\n",
       "      <td>76.0</td>\n",
       "      <td>1.0</td>\n",
       "      <td>122.666667</td>\n",
       "      <td>65.333333</td>\n",
       "      <td>...</td>\n",
       "      <td>2.0</td>\n",
       "      <td>1.0</td>\n",
       "      <td>2.0</td>\n",
       "      <td>2.0</td>\n",
       "      <td>2.0</td>\n",
       "      <td>2.0</td>\n",
       "      <td>1.0</td>\n",
       "      <td>1.0</td>\n",
       "      <td>3.0</td>\n",
       "      <td>2.0</td>\n",
       "    </tr>\n",
       "    <tr>\n",
       "      <th>1</th>\n",
       "      <td>83733.0</td>\n",
       "      <td>1.0</td>\n",
       "      <td>53.0</td>\n",
       "      <td>3.0</td>\n",
       "      <td>2.0</td>\n",
       "      <td>4.0</td>\n",
       "      <td>72.0</td>\n",
       "      <td>1.0</td>\n",
       "      <td>140.000000</td>\n",
       "      <td>86.000000</td>\n",
       "      <td>...</td>\n",
       "      <td>2.0</td>\n",
       "      <td>2.0</td>\n",
       "      <td>2.0</td>\n",
       "      <td>2.0</td>\n",
       "      <td>2.0</td>\n",
       "      <td>2.0</td>\n",
       "      <td>2.0</td>\n",
       "      <td>1.0</td>\n",
       "      <td>1.0</td>\n",
       "      <td>2.0</td>\n",
       "    </tr>\n",
       "    <tr>\n",
       "      <th>3</th>\n",
       "      <td>83735.0</td>\n",
       "      <td>2.0</td>\n",
       "      <td>56.0</td>\n",
       "      <td>3.0</td>\n",
       "      <td>1.0</td>\n",
       "      <td>10.0</td>\n",
       "      <td>78.0</td>\n",
       "      <td>1.0</td>\n",
       "      <td>134.000000</td>\n",
       "      <td>70.000000</td>\n",
       "      <td>...</td>\n",
       "      <td>1.0</td>\n",
       "      <td>1.0</td>\n",
       "      <td>2.0</td>\n",
       "      <td>1.0</td>\n",
       "      <td>2.0</td>\n",
       "      <td>2.0</td>\n",
       "      <td>2.0</td>\n",
       "      <td>2.0</td>\n",
       "      <td>NaN</td>\n",
       "      <td>2.0</td>\n",
       "    </tr>\n",
       "    <tr>\n",
       "      <th>4</th>\n",
       "      <td>83736.0</td>\n",
       "      <td>2.0</td>\n",
       "      <td>42.0</td>\n",
       "      <td>4.0</td>\n",
       "      <td>1.0</td>\n",
       "      <td>7.0</td>\n",
       "      <td>76.0</td>\n",
       "      <td>1.0</td>\n",
       "      <td>104.000000</td>\n",
       "      <td>60.000000</td>\n",
       "      <td>...</td>\n",
       "      <td>2.0</td>\n",
       "      <td>2.0</td>\n",
       "      <td>2.0</td>\n",
       "      <td>2.0</td>\n",
       "      <td>2.0</td>\n",
       "      <td>2.0</td>\n",
       "      <td>2.0</td>\n",
       "      <td>2.0</td>\n",
       "      <td>NaN</td>\n",
       "      <td>2.0</td>\n",
       "    </tr>\n",
       "    <tr>\n",
       "      <th>9</th>\n",
       "      <td>83741.0</td>\n",
       "      <td>1.0</td>\n",
       "      <td>22.0</td>\n",
       "      <td>4.0</td>\n",
       "      <td>1.0</td>\n",
       "      <td>7.0</td>\n",
       "      <td>66.0</td>\n",
       "      <td>1.0</td>\n",
       "      <td>111.333333</td>\n",
       "      <td>72.666667</td>\n",
       "      <td>...</td>\n",
       "      <td>2.0</td>\n",
       "      <td>2.0</td>\n",
       "      <td>2.0</td>\n",
       "      <td>2.0</td>\n",
       "      <td>1.0</td>\n",
       "      <td>1.0</td>\n",
       "      <td>2.0</td>\n",
       "      <td>1.0</td>\n",
       "      <td>2.0</td>\n",
       "      <td>2.0</td>\n",
       "    </tr>\n",
       "  </tbody>\n",
       "</table>\n",
       "<p>5 rows × 38 columns</p>\n",
       "</div>"
      ],
      "text/plain": [
       "      SEQN  Gender   Age  Race  Country_Born  Family_Income  Heart_Rate  \\\n",
       "0  83732.0     1.0  62.0   3.0           1.0           10.0        76.0   \n",
       "1  83733.0     1.0  53.0   3.0           2.0            4.0        72.0   \n",
       "3  83735.0     2.0  56.0   3.0           1.0           10.0        78.0   \n",
       "4  83736.0     2.0  42.0   4.0           1.0            7.0        76.0   \n",
       "9  83741.0     1.0  22.0   4.0           1.0            7.0        66.0   \n",
       "\n",
       "   Pulse_Regular_Irregular  Systolic_BP_Avg  Diastolic_BP_Avg   ...    \\\n",
       "0                      1.0       122.666667         65.333333   ...     \n",
       "1                      1.0       140.000000         86.000000   ...     \n",
       "3                      1.0       134.000000         70.000000   ...     \n",
       "4                      1.0       104.000000         60.000000   ...     \n",
       "9                      1.0       111.333333         72.666667   ...     \n",
       "\n",
       "   Doctor_told_you_lose_weight  Doctor_told_you_exercise  \\\n",
       "0                          2.0                       1.0   \n",
       "1                          2.0                       2.0   \n",
       "3                          1.0                       1.0   \n",
       "4                          2.0                       2.0   \n",
       "9                          2.0                       2.0   \n",
       "\n",
       "   Doctor_told_you_reduce_salt  Doctor_told_you_reduce_fat_calories  \\\n",
       "0                          2.0                                  2.0   \n",
       "1                          2.0                                  2.0   \n",
       "3                          2.0                                  1.0   \n",
       "4                          2.0                                  2.0   \n",
       "9                          2.0                                  2.0   \n",
       "\n",
       "   Walk_or_bicycle  Vigorous_recreational_activities  \\\n",
       "0              2.0                               2.0   \n",
       "1              2.0                               2.0   \n",
       "3              2.0                               2.0   \n",
       "4              2.0                               2.0   \n",
       "9              1.0                               1.0   \n",
       "\n",
       "   Moderate_recreational_activities  Smoked_at_least_100_cigarettes_in_life  \\\n",
       "0                               1.0                                     1.0   \n",
       "1                               2.0                                     1.0   \n",
       "3                               2.0                                     2.0   \n",
       "4                               2.0                                     2.0   \n",
       "9                               2.0                                     1.0   \n",
       "\n",
       "   Do_you_now_smoke_cigarettes  Target  \n",
       "0                          3.0     2.0  \n",
       "1                          1.0     2.0  \n",
       "3                          NaN     2.0  \n",
       "4                          NaN     2.0  \n",
       "9                          2.0     2.0  \n",
       "\n",
       "[5 rows x 38 columns]"
      ]
     },
     "execution_count": 3,
     "metadata": {},
     "output_type": "execute_result"
    }
   ],
   "source": [
    "df.head()"
   ]
  },
  {
   "cell_type": "code",
   "execution_count": 4,
   "metadata": {},
   "outputs": [
    {
     "data": {
      "text/plain": [
       "(4707, 38)"
      ]
     },
     "execution_count": 4,
     "metadata": {},
     "output_type": "execute_result"
    }
   ],
   "source": [
    "df.shape"
   ]
  },
  {
   "cell_type": "code",
   "execution_count": 5,
   "metadata": {},
   "outputs": [],
   "source": [
    "df.reset_index(inplace=True)"
   ]
  },
  {
   "cell_type": "code",
   "execution_count": 6,
   "metadata": {},
   "outputs": [
    {
     "data": {
      "text/plain": [
       "(4707, 39)"
      ]
     },
     "execution_count": 6,
     "metadata": {},
     "output_type": "execute_result"
    }
   ],
   "source": [
    "df.shape"
   ]
  },
  {
   "cell_type": "code",
   "execution_count": 7,
   "metadata": {},
   "outputs": [],
   "source": [
    "df.drop(columns='index',inplace=True)"
   ]
  },
  {
   "cell_type": "code",
   "execution_count": 8,
   "metadata": {},
   "outputs": [
    {
     "data": {
      "text/plain": [
       "(4707, 38)"
      ]
     },
     "execution_count": 8,
     "metadata": {},
     "output_type": "execute_result"
    }
   ],
   "source": [
    "df.shape"
   ]
  },
  {
   "cell_type": "code",
   "execution_count": 9,
   "metadata": {},
   "outputs": [
    {
     "data": {
      "text/html": [
       "<div>\n",
       "<style scoped>\n",
       "    .dataframe tbody tr th:only-of-type {\n",
       "        vertical-align: middle;\n",
       "    }\n",
       "\n",
       "    .dataframe tbody tr th {\n",
       "        vertical-align: top;\n",
       "    }\n",
       "\n",
       "    .dataframe thead th {\n",
       "        text-align: right;\n",
       "    }\n",
       "</style>\n",
       "<table border=\"1\" class=\"dataframe\">\n",
       "  <thead>\n",
       "    <tr style=\"text-align: right;\">\n",
       "      <th></th>\n",
       "      <th>SEQN</th>\n",
       "      <th>Gender</th>\n",
       "      <th>Age</th>\n",
       "      <th>Race</th>\n",
       "      <th>Country_Born</th>\n",
       "      <th>Family_Income</th>\n",
       "      <th>Heart_Rate</th>\n",
       "      <th>Pulse_Regular_Irregular</th>\n",
       "      <th>Systolic_BP_Avg</th>\n",
       "      <th>Diastolic_BP_Avg</th>\n",
       "      <th>...</th>\n",
       "      <th>Doctor_told_you_lose_weight</th>\n",
       "      <th>Doctor_told_you_exercise</th>\n",
       "      <th>Doctor_told_you_reduce_salt</th>\n",
       "      <th>Doctor_told_you_reduce_fat_calories</th>\n",
       "      <th>Walk_or_bicycle</th>\n",
       "      <th>Vigorous_recreational_activities</th>\n",
       "      <th>Moderate_recreational_activities</th>\n",
       "      <th>Smoked_at_least_100_cigarettes_in_life</th>\n",
       "      <th>Do_you_now_smoke_cigarettes</th>\n",
       "      <th>Target</th>\n",
       "    </tr>\n",
       "  </thead>\n",
       "  <tbody>\n",
       "    <tr>\n",
       "      <th>0</th>\n",
       "      <td>83732.0</td>\n",
       "      <td>1.0</td>\n",
       "      <td>62.0</td>\n",
       "      <td>3.0</td>\n",
       "      <td>1.0</td>\n",
       "      <td>10.0</td>\n",
       "      <td>76.0</td>\n",
       "      <td>1.0</td>\n",
       "      <td>122.666667</td>\n",
       "      <td>65.333333</td>\n",
       "      <td>...</td>\n",
       "      <td>2.0</td>\n",
       "      <td>1.0</td>\n",
       "      <td>2.0</td>\n",
       "      <td>2.0</td>\n",
       "      <td>2.0</td>\n",
       "      <td>2.0</td>\n",
       "      <td>1.0</td>\n",
       "      <td>1.0</td>\n",
       "      <td>3.0</td>\n",
       "      <td>2.0</td>\n",
       "    </tr>\n",
       "    <tr>\n",
       "      <th>1</th>\n",
       "      <td>83733.0</td>\n",
       "      <td>1.0</td>\n",
       "      <td>53.0</td>\n",
       "      <td>3.0</td>\n",
       "      <td>2.0</td>\n",
       "      <td>4.0</td>\n",
       "      <td>72.0</td>\n",
       "      <td>1.0</td>\n",
       "      <td>140.000000</td>\n",
       "      <td>86.000000</td>\n",
       "      <td>...</td>\n",
       "      <td>2.0</td>\n",
       "      <td>2.0</td>\n",
       "      <td>2.0</td>\n",
       "      <td>2.0</td>\n",
       "      <td>2.0</td>\n",
       "      <td>2.0</td>\n",
       "      <td>2.0</td>\n",
       "      <td>1.0</td>\n",
       "      <td>1.0</td>\n",
       "      <td>2.0</td>\n",
       "    </tr>\n",
       "    <tr>\n",
       "      <th>2</th>\n",
       "      <td>83735.0</td>\n",
       "      <td>2.0</td>\n",
       "      <td>56.0</td>\n",
       "      <td>3.0</td>\n",
       "      <td>1.0</td>\n",
       "      <td>10.0</td>\n",
       "      <td>78.0</td>\n",
       "      <td>1.0</td>\n",
       "      <td>134.000000</td>\n",
       "      <td>70.000000</td>\n",
       "      <td>...</td>\n",
       "      <td>1.0</td>\n",
       "      <td>1.0</td>\n",
       "      <td>2.0</td>\n",
       "      <td>1.0</td>\n",
       "      <td>2.0</td>\n",
       "      <td>2.0</td>\n",
       "      <td>2.0</td>\n",
       "      <td>2.0</td>\n",
       "      <td>NaN</td>\n",
       "      <td>2.0</td>\n",
       "    </tr>\n",
       "    <tr>\n",
       "      <th>3</th>\n",
       "      <td>83736.0</td>\n",
       "      <td>2.0</td>\n",
       "      <td>42.0</td>\n",
       "      <td>4.0</td>\n",
       "      <td>1.0</td>\n",
       "      <td>7.0</td>\n",
       "      <td>76.0</td>\n",
       "      <td>1.0</td>\n",
       "      <td>104.000000</td>\n",
       "      <td>60.000000</td>\n",
       "      <td>...</td>\n",
       "      <td>2.0</td>\n",
       "      <td>2.0</td>\n",
       "      <td>2.0</td>\n",
       "      <td>2.0</td>\n",
       "      <td>2.0</td>\n",
       "      <td>2.0</td>\n",
       "      <td>2.0</td>\n",
       "      <td>2.0</td>\n",
       "      <td>NaN</td>\n",
       "      <td>2.0</td>\n",
       "    </tr>\n",
       "    <tr>\n",
       "      <th>4</th>\n",
       "      <td>83741.0</td>\n",
       "      <td>1.0</td>\n",
       "      <td>22.0</td>\n",
       "      <td>4.0</td>\n",
       "      <td>1.0</td>\n",
       "      <td>7.0</td>\n",
       "      <td>66.0</td>\n",
       "      <td>1.0</td>\n",
       "      <td>111.333333</td>\n",
       "      <td>72.666667</td>\n",
       "      <td>...</td>\n",
       "      <td>2.0</td>\n",
       "      <td>2.0</td>\n",
       "      <td>2.0</td>\n",
       "      <td>2.0</td>\n",
       "      <td>1.0</td>\n",
       "      <td>1.0</td>\n",
       "      <td>2.0</td>\n",
       "      <td>1.0</td>\n",
       "      <td>2.0</td>\n",
       "      <td>2.0</td>\n",
       "    </tr>\n",
       "  </tbody>\n",
       "</table>\n",
       "<p>5 rows × 38 columns</p>\n",
       "</div>"
      ],
      "text/plain": [
       "      SEQN  Gender   Age  Race  Country_Born  Family_Income  Heart_Rate  \\\n",
       "0  83732.0     1.0  62.0   3.0           1.0           10.0        76.0   \n",
       "1  83733.0     1.0  53.0   3.0           2.0            4.0        72.0   \n",
       "2  83735.0     2.0  56.0   3.0           1.0           10.0        78.0   \n",
       "3  83736.0     2.0  42.0   4.0           1.0            7.0        76.0   \n",
       "4  83741.0     1.0  22.0   4.0           1.0            7.0        66.0   \n",
       "\n",
       "   Pulse_Regular_Irregular  Systolic_BP_Avg  Diastolic_BP_Avg   ...    \\\n",
       "0                      1.0       122.666667         65.333333   ...     \n",
       "1                      1.0       140.000000         86.000000   ...     \n",
       "2                      1.0       134.000000         70.000000   ...     \n",
       "3                      1.0       104.000000         60.000000   ...     \n",
       "4                      1.0       111.333333         72.666667   ...     \n",
       "\n",
       "   Doctor_told_you_lose_weight  Doctor_told_you_exercise  \\\n",
       "0                          2.0                       1.0   \n",
       "1                          2.0                       2.0   \n",
       "2                          1.0                       1.0   \n",
       "3                          2.0                       2.0   \n",
       "4                          2.0                       2.0   \n",
       "\n",
       "   Doctor_told_you_reduce_salt  Doctor_told_you_reduce_fat_calories  \\\n",
       "0                          2.0                                  2.0   \n",
       "1                          2.0                                  2.0   \n",
       "2                          2.0                                  1.0   \n",
       "3                          2.0                                  2.0   \n",
       "4                          2.0                                  2.0   \n",
       "\n",
       "   Walk_or_bicycle  Vigorous_recreational_activities  \\\n",
       "0              2.0                               2.0   \n",
       "1              2.0                               2.0   \n",
       "2              2.0                               2.0   \n",
       "3              2.0                               2.0   \n",
       "4              1.0                               1.0   \n",
       "\n",
       "   Moderate_recreational_activities  Smoked_at_least_100_cigarettes_in_life  \\\n",
       "0                               1.0                                     1.0   \n",
       "1                               2.0                                     1.0   \n",
       "2                               2.0                                     2.0   \n",
       "3                               2.0                                     2.0   \n",
       "4                               2.0                                     1.0   \n",
       "\n",
       "   Do_you_now_smoke_cigarettes  Target  \n",
       "0                          3.0     2.0  \n",
       "1                          1.0     2.0  \n",
       "2                          NaN     2.0  \n",
       "3                          NaN     2.0  \n",
       "4                          2.0     2.0  \n",
       "\n",
       "[5 rows x 38 columns]"
      ]
     },
     "execution_count": 9,
     "metadata": {},
     "output_type": "execute_result"
    }
   ],
   "source": [
    "df.head()"
   ]
  },
  {
   "cell_type": "code",
   "execution_count": 10,
   "metadata": {},
   "outputs": [
    {
     "data": {
      "text/plain": [
       "2.0    4343\n",
       "1.0      80\n",
       "Name: Target, dtype: int64"
      ]
     },
     "execution_count": 10,
     "metadata": {},
     "output_type": "execute_result"
    }
   ],
   "source": [
    "df['Target'].value_counts()"
   ]
  },
  {
   "cell_type": "code",
   "execution_count": 11,
   "metadata": {},
   "outputs": [
    {
     "data": {
      "text/plain": [
       "284"
      ]
     },
     "execution_count": 11,
     "metadata": {},
     "output_type": "execute_result"
    }
   ],
   "source": [
    "df['Target'].isna().sum()"
   ]
  },
  {
   "cell_type": "code",
   "execution_count": 12,
   "metadata": {},
   "outputs": [],
   "source": [
    "df.loc[df['Target']==2, 'Target'] = 0"
   ]
  },
  {
   "cell_type": "code",
   "execution_count": 13,
   "metadata": {},
   "outputs": [
    {
     "data": {
      "text/plain": [
       "0.0    4343\n",
       "1.0      80\n",
       "Name: Target, dtype: int64"
      ]
     },
     "execution_count": 13,
     "metadata": {},
     "output_type": "execute_result"
    }
   ],
   "source": [
    "df['Target'].value_counts()"
   ]
  },
  {
   "cell_type": "code",
   "execution_count": 14,
   "metadata": {},
   "outputs": [
    {
     "data": {
      "text/plain": [
       "284"
      ]
     },
     "execution_count": 14,
     "metadata": {},
     "output_type": "execute_result"
    }
   ],
   "source": [
    "df['Target'].isna().sum()"
   ]
  },
  {
   "cell_type": "code",
   "execution_count": 15,
   "metadata": {},
   "outputs": [
    {
     "data": {
      "text/plain": [
       "1.0    4322\n",
       "2.0      67\n",
       "Name: Pulse_Regular_Irregular, dtype: int64"
      ]
     },
     "execution_count": 15,
     "metadata": {},
     "output_type": "execute_result"
    }
   ],
   "source": [
    "df['Pulse_Regular_Irregular'].value_counts()"
   ]
  },
  {
   "cell_type": "code",
   "execution_count": 16,
   "metadata": {},
   "outputs": [],
   "source": [
    "df.loc[df['Pulse_Regular_Irregular'] == 1, 'Pulse_Regular_Irregular'] = 0"
   ]
  },
  {
   "cell_type": "code",
   "execution_count": 17,
   "metadata": {},
   "outputs": [],
   "source": [
    "df.loc[df['Pulse_Regular_Irregular'] == 2, 'Pulse_Regular_Irregular'] = 1"
   ]
  },
  {
   "cell_type": "code",
   "execution_count": 18,
   "metadata": {},
   "outputs": [
    {
     "data": {
      "text/plain": [
       "0.0    4322\n",
       "1.0      67\n",
       "Name: Pulse_Regular_Irregular, dtype: int64"
      ]
     },
     "execution_count": 18,
     "metadata": {},
     "output_type": "execute_result"
    }
   ],
   "source": [
    "df['Pulse_Regular_Irregular'].value_counts()"
   ]
  },
  {
   "cell_type": "code",
   "execution_count": 19,
   "metadata": {},
   "outputs": [],
   "source": [
    "df.rename(columns={'Pulse_Regular_Irregular': 'Irregular_Pulse'}, inplace=True)"
   ]
  },
  {
   "cell_type": "code",
   "execution_count": 20,
   "metadata": {},
   "outputs": [
    {
     "data": {
      "text/plain": [
       "0.0    4322\n",
       "1.0      67\n",
       "Name: Irregular_Pulse, dtype: int64"
      ]
     },
     "execution_count": 20,
     "metadata": {},
     "output_type": "execute_result"
    }
   ],
   "source": [
    "df['Irregular_Pulse'].value_counts()"
   ]
  },
  {
   "cell_type": "code",
   "execution_count": 21,
   "metadata": {},
   "outputs": [
    {
     "data": {
      "text/plain": [
       "2.0    2766\n",
       "1.0     548\n",
       "Name: Have_4_5_Plus_Drinks_a_Day, dtype: int64"
      ]
     },
     "execution_count": 21,
     "metadata": {},
     "output_type": "execute_result"
    }
   ],
   "source": [
    "df['Have_4_5_Plus_Drinks_a_Day'].value_counts()"
   ]
  },
  {
   "cell_type": "code",
   "execution_count": 22,
   "metadata": {},
   "outputs": [],
   "source": [
    "df.loc[df['Have_4_5_Plus_Drinks_a_Day'] == 2, 'Have_4_5_Plus_Drinks_a_Day']=0"
   ]
  },
  {
   "cell_type": "code",
   "execution_count": 23,
   "metadata": {},
   "outputs": [],
   "source": [
    "df.loc[df['Ever_told_high_blood_pressure'] == 2, 'Ever_told_high_blood_pressure']=0"
   ]
  },
  {
   "cell_type": "code",
   "execution_count": 24,
   "metadata": {},
   "outputs": [],
   "source": [
    "df.loc[df['Ever_told_high_cholesterol'] == 2, 'Ever_told_high_cholesterol']=0"
   ]
  },
  {
   "cell_type": "code",
   "execution_count": 25,
   "metadata": {},
   "outputs": [],
   "source": [
    "df.loc[df['Doctor_told_you_have_diabetes'] == 2, 'Doctor_told_you_have_diabetes']=0"
   ]
  },
  {
   "cell_type": "code",
   "execution_count": 26,
   "metadata": {},
   "outputs": [],
   "source": [
    "df.loc[df['Doctor_told_you_overweight'] == 2, 'Doctor_told_you_overweight']=0\n",
    "df.loc[df['Doctor_told_you_lose_weight'] == 2, 'Doctor_told_you_lose_weight']=0\n",
    "df.loc[df['Doctor_told_you_exercise'] == 2, 'Doctor_told_you_exercise']=0\n",
    "df.loc[df['Doctor_told_you_reduce_salt'] == 2, 'Doctor_told_you_reduce_salt']=0\n",
    "df.loc[df['Doctor_told_you_reduce_fat_calories'] == 2, 'Doctor_told_you_reduce_fat_calories']=0\n",
    "df.loc[df['Walk_or_bicycle'] == 2, 'Walk_or_bicycle']=0\n",
    "df.loc[df['Vigorous_recreational_activities'] == 2, 'Vigorous_recreational_activities']=0\n",
    "df.loc[df['Moderate_recreational_activities'] == 2, 'Moderate_recreational_activities']=0\n",
    "df.loc[df['Smoked_at_least_100_cigarettes_in_life'] == 2, 'Smoked_at_least_100_cigarettes_in_life']=0"
   ]
  },
  {
   "cell_type": "code",
   "execution_count": 27,
   "metadata": {},
   "outputs": [],
   "source": [
    "cols_for_dummies = ['Past_30day_milk_consumption', 'Do_you_now_smoke_cigarettes']"
   ]
  },
  {
   "cell_type": "code",
   "execution_count": 28,
   "metadata": {},
   "outputs": [],
   "source": [
    "df_master = pd.get_dummies(df, columns=cols_for_dummies, dummy_na=True)"
   ]
  },
  {
   "cell_type": "code",
   "execution_count": 29,
   "metadata": {},
   "outputs": [
    {
     "data": {
      "text/html": [
       "<div>\n",
       "<style scoped>\n",
       "    .dataframe tbody tr th:only-of-type {\n",
       "        vertical-align: middle;\n",
       "    }\n",
       "\n",
       "    .dataframe tbody tr th {\n",
       "        vertical-align: top;\n",
       "    }\n",
       "\n",
       "    .dataframe thead th {\n",
       "        text-align: right;\n",
       "    }\n",
       "</style>\n",
       "<table border=\"1\" class=\"dataframe\">\n",
       "  <thead>\n",
       "    <tr style=\"text-align: right;\">\n",
       "      <th></th>\n",
       "      <th>SEQN</th>\n",
       "      <th>Gender</th>\n",
       "      <th>Age</th>\n",
       "      <th>Race</th>\n",
       "      <th>Country_Born</th>\n",
       "      <th>Family_Income</th>\n",
       "      <th>Heart_Rate</th>\n",
       "      <th>Irregular_Pulse</th>\n",
       "      <th>Systolic_BP_Avg</th>\n",
       "      <th>Diastolic_BP_Avg</th>\n",
       "      <th>...</th>\n",
       "      <th>Past_30day_milk_consumption_0.0</th>\n",
       "      <th>Past_30day_milk_consumption_1.0</th>\n",
       "      <th>Past_30day_milk_consumption_2.0</th>\n",
       "      <th>Past_30day_milk_consumption_3.0</th>\n",
       "      <th>Past_30day_milk_consumption_4.0</th>\n",
       "      <th>Past_30day_milk_consumption_nan</th>\n",
       "      <th>Do_you_now_smoke_cigarettes_1.0</th>\n",
       "      <th>Do_you_now_smoke_cigarettes_2.0</th>\n",
       "      <th>Do_you_now_smoke_cigarettes_3.0</th>\n",
       "      <th>Do_you_now_smoke_cigarettes_nan</th>\n",
       "    </tr>\n",
       "  </thead>\n",
       "  <tbody>\n",
       "    <tr>\n",
       "      <th>0</th>\n",
       "      <td>83732.0</td>\n",
       "      <td>1.0</td>\n",
       "      <td>62.0</td>\n",
       "      <td>3.0</td>\n",
       "      <td>1.0</td>\n",
       "      <td>10.0</td>\n",
       "      <td>76.0</td>\n",
       "      <td>0.0</td>\n",
       "      <td>122.666667</td>\n",
       "      <td>65.333333</td>\n",
       "      <td>...</td>\n",
       "      <td>0</td>\n",
       "      <td>0</td>\n",
       "      <td>0</td>\n",
       "      <td>1</td>\n",
       "      <td>0</td>\n",
       "      <td>0</td>\n",
       "      <td>0</td>\n",
       "      <td>0</td>\n",
       "      <td>1</td>\n",
       "      <td>0</td>\n",
       "    </tr>\n",
       "    <tr>\n",
       "      <th>1</th>\n",
       "      <td>83733.0</td>\n",
       "      <td>1.0</td>\n",
       "      <td>53.0</td>\n",
       "      <td>3.0</td>\n",
       "      <td>2.0</td>\n",
       "      <td>4.0</td>\n",
       "      <td>72.0</td>\n",
       "      <td>0.0</td>\n",
       "      <td>140.000000</td>\n",
       "      <td>86.000000</td>\n",
       "      <td>...</td>\n",
       "      <td>1</td>\n",
       "      <td>0</td>\n",
       "      <td>0</td>\n",
       "      <td>0</td>\n",
       "      <td>0</td>\n",
       "      <td>0</td>\n",
       "      <td>1</td>\n",
       "      <td>0</td>\n",
       "      <td>0</td>\n",
       "      <td>0</td>\n",
       "    </tr>\n",
       "    <tr>\n",
       "      <th>2</th>\n",
       "      <td>83735.0</td>\n",
       "      <td>2.0</td>\n",
       "      <td>56.0</td>\n",
       "      <td>3.0</td>\n",
       "      <td>1.0</td>\n",
       "      <td>10.0</td>\n",
       "      <td>78.0</td>\n",
       "      <td>0.0</td>\n",
       "      <td>134.000000</td>\n",
       "      <td>70.000000</td>\n",
       "      <td>...</td>\n",
       "      <td>1</td>\n",
       "      <td>0</td>\n",
       "      <td>0</td>\n",
       "      <td>0</td>\n",
       "      <td>0</td>\n",
       "      <td>0</td>\n",
       "      <td>0</td>\n",
       "      <td>0</td>\n",
       "      <td>0</td>\n",
       "      <td>1</td>\n",
       "    </tr>\n",
       "    <tr>\n",
       "      <th>3</th>\n",
       "      <td>83736.0</td>\n",
       "      <td>2.0</td>\n",
       "      <td>42.0</td>\n",
       "      <td>4.0</td>\n",
       "      <td>1.0</td>\n",
       "      <td>7.0</td>\n",
       "      <td>76.0</td>\n",
       "      <td>0.0</td>\n",
       "      <td>104.000000</td>\n",
       "      <td>60.000000</td>\n",
       "      <td>...</td>\n",
       "      <td>1</td>\n",
       "      <td>0</td>\n",
       "      <td>0</td>\n",
       "      <td>0</td>\n",
       "      <td>0</td>\n",
       "      <td>0</td>\n",
       "      <td>0</td>\n",
       "      <td>0</td>\n",
       "      <td>0</td>\n",
       "      <td>1</td>\n",
       "    </tr>\n",
       "    <tr>\n",
       "      <th>4</th>\n",
       "      <td>83741.0</td>\n",
       "      <td>1.0</td>\n",
       "      <td>22.0</td>\n",
       "      <td>4.0</td>\n",
       "      <td>1.0</td>\n",
       "      <td>7.0</td>\n",
       "      <td>66.0</td>\n",
       "      <td>0.0</td>\n",
       "      <td>111.333333</td>\n",
       "      <td>72.666667</td>\n",
       "      <td>...</td>\n",
       "      <td>0</td>\n",
       "      <td>0</td>\n",
       "      <td>1</td>\n",
       "      <td>0</td>\n",
       "      <td>0</td>\n",
       "      <td>0</td>\n",
       "      <td>0</td>\n",
       "      <td>1</td>\n",
       "      <td>0</td>\n",
       "      <td>0</td>\n",
       "    </tr>\n",
       "  </tbody>\n",
       "</table>\n",
       "<p>5 rows × 46 columns</p>\n",
       "</div>"
      ],
      "text/plain": [
       "      SEQN  Gender   Age  Race  Country_Born  Family_Income  Heart_Rate  \\\n",
       "0  83732.0     1.0  62.0   3.0           1.0           10.0        76.0   \n",
       "1  83733.0     1.0  53.0   3.0           2.0            4.0        72.0   \n",
       "2  83735.0     2.0  56.0   3.0           1.0           10.0        78.0   \n",
       "3  83736.0     2.0  42.0   4.0           1.0            7.0        76.0   \n",
       "4  83741.0     1.0  22.0   4.0           1.0            7.0        66.0   \n",
       "\n",
       "   Irregular_Pulse  Systolic_BP_Avg  Diastolic_BP_Avg  \\\n",
       "0              0.0       122.666667         65.333333   \n",
       "1              0.0       140.000000         86.000000   \n",
       "2              0.0       134.000000         70.000000   \n",
       "3              0.0       104.000000         60.000000   \n",
       "4              0.0       111.333333         72.666667   \n",
       "\n",
       "                ...                 Past_30day_milk_consumption_0.0  \\\n",
       "0               ...                                               0   \n",
       "1               ...                                               1   \n",
       "2               ...                                               1   \n",
       "3               ...                                               1   \n",
       "4               ...                                               0   \n",
       "\n",
       "   Past_30day_milk_consumption_1.0  Past_30day_milk_consumption_2.0  \\\n",
       "0                                0                                0   \n",
       "1                                0                                0   \n",
       "2                                0                                0   \n",
       "3                                0                                0   \n",
       "4                                0                                1   \n",
       "\n",
       "   Past_30day_milk_consumption_3.0  Past_30day_milk_consumption_4.0  \\\n",
       "0                                1                                0   \n",
       "1                                0                                0   \n",
       "2                                0                                0   \n",
       "3                                0                                0   \n",
       "4                                0                                0   \n",
       "\n",
       "   Past_30day_milk_consumption_nan  Do_you_now_smoke_cigarettes_1.0  \\\n",
       "0                                0                                0   \n",
       "1                                0                                1   \n",
       "2                                0                                0   \n",
       "3                                0                                0   \n",
       "4                                0                                0   \n",
       "\n",
       "   Do_you_now_smoke_cigarettes_2.0  Do_you_now_smoke_cigarettes_3.0  \\\n",
       "0                                0                                1   \n",
       "1                                0                                0   \n",
       "2                                0                                0   \n",
       "3                                0                                0   \n",
       "4                                1                                0   \n",
       "\n",
       "   Do_you_now_smoke_cigarettes_nan  \n",
       "0                                0  \n",
       "1                                0  \n",
       "2                                1  \n",
       "3                                1  \n",
       "4                                0  \n",
       "\n",
       "[5 rows x 46 columns]"
      ]
     },
     "execution_count": 29,
     "metadata": {},
     "output_type": "execute_result"
    }
   ],
   "source": [
    "df_master.head()"
   ]
  },
  {
   "cell_type": "code",
   "execution_count": 30,
   "metadata": {},
   "outputs": [
    {
     "data": {
      "text/plain": [
       "Index(['SEQN', 'Gender', 'Age', 'Race', 'Country_Born', 'Family_Income',\n",
       "       'Heart_Rate', 'Irregular_Pulse', 'Systolic_BP_Avg', 'Diastolic_BP_Avg',\n",
       "       'Weight_kg', 'Height_cm', 'BMI', 'Waist_cm',\n",
       "       'Avg_Num_Alcohol_Drink_a_Day', 'Have_4_5_Plus_Drinks_a_Day',\n",
       "       'Ever_told_high_blood_pressure', 'Ever_told_high_cholesterol',\n",
       "       'Money_spent_at_supermarket_grocery_store',\n",
       "       'Money_spent_on_food_at_other_stores', 'Money_spent_eating_out',\n",
       "       'Money_spent_carryout_delivered_foods', 'Doctor_told_you_have_diabetes',\n",
       "       'Meals_not_home_prepared', 'Past_30day_ready_to_eat_foods',\n",
       "       'Past_30day_frozen_meals_pizza', 'Doctor_told_you_overweight',\n",
       "       'Doctor_told_you_lose_weight', 'Doctor_told_you_exercise',\n",
       "       'Doctor_told_you_reduce_salt', 'Doctor_told_you_reduce_fat_calories',\n",
       "       'Walk_or_bicycle', 'Vigorous_recreational_activities',\n",
       "       'Moderate_recreational_activities',\n",
       "       'Smoked_at_least_100_cigarettes_in_life', 'Target',\n",
       "       'Past_30day_milk_consumption_0.0', 'Past_30day_milk_consumption_1.0',\n",
       "       'Past_30day_milk_consumption_2.0', 'Past_30day_milk_consumption_3.0',\n",
       "       'Past_30day_milk_consumption_4.0', 'Past_30day_milk_consumption_nan',\n",
       "       'Do_you_now_smoke_cigarettes_1.0', 'Do_you_now_smoke_cigarettes_2.0',\n",
       "       'Do_you_now_smoke_cigarettes_3.0', 'Do_you_now_smoke_cigarettes_nan'],\n",
       "      dtype='object')"
      ]
     },
     "execution_count": 30,
     "metadata": {},
     "output_type": "execute_result"
    }
   ],
   "source": [
    "df_master.columns"
   ]
  },
  {
   "cell_type": "code",
   "execution_count": 31,
   "metadata": {},
   "outputs": [
    {
     "data": {
      "text/plain": [
       "(4707, 46)"
      ]
     },
     "execution_count": 31,
     "metadata": {},
     "output_type": "execute_result"
    }
   ],
   "source": [
    "df_master.shape"
   ]
  },
  {
   "cell_type": "code",
   "execution_count": 32,
   "metadata": {},
   "outputs": [],
   "source": [
    "more_cols_for_dummies = ['Country_Born', 'Family_Income']"
   ]
  },
  {
   "cell_type": "code",
   "execution_count": 33,
   "metadata": {},
   "outputs": [],
   "source": [
    "df_master_new = pd.get_dummies(df_master, columns=more_cols_for_dummies, dummy_na=True)"
   ]
  },
  {
   "cell_type": "code",
   "execution_count": 35,
   "metadata": {},
   "outputs": [
    {
     "data": {
      "text/plain": [
       "(4707, 62)"
      ]
     },
     "execution_count": 35,
     "metadata": {},
     "output_type": "execute_result"
    }
   ],
   "source": [
    "df_master_new.shape"
   ]
  },
  {
   "cell_type": "code",
   "execution_count": 34,
   "metadata": {},
   "outputs": [],
   "source": [
    "other_cols_for_dummies = ['Gender', 'Race']"
   ]
  },
  {
   "cell_type": "code",
   "execution_count": 36,
   "metadata": {},
   "outputs": [],
   "source": [
    "df_master_master = pd.get_dummies(df_master_new, columns=other_cols_for_dummies)"
   ]
  },
  {
   "cell_type": "code",
   "execution_count": 37,
   "metadata": {},
   "outputs": [
    {
     "data": {
      "text/plain": [
       "(4707, 68)"
      ]
     },
     "execution_count": 37,
     "metadata": {},
     "output_type": "execute_result"
    }
   ],
   "source": [
    "df_master_master.shape"
   ]
  },
  {
   "cell_type": "code",
   "execution_count": 38,
   "metadata": {},
   "outputs": [],
   "source": [
    "df_master_master.to_csv('Master_Clean_w_NaN.csv')"
   ]
  },
  {
   "cell_type": "code",
   "execution_count": null,
   "metadata": {},
   "outputs": [],
   "source": []
  }
 ],
 "metadata": {
  "kernelspec": {
   "display_name": "Python 3",
   "language": "python",
   "name": "python3"
  },
  "language_info": {
   "codemirror_mode": {
    "name": "ipython",
    "version": 3
   },
   "file_extension": ".py",
   "mimetype": "text/x-python",
   "name": "python",
   "nbconvert_exporter": "python",
   "pygments_lexer": "ipython3",
   "version": "3.7.1"
  }
 },
 "nbformat": 4,
 "nbformat_minor": 2
}
