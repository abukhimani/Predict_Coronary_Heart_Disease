{
 "cells": [
  {
   "cell_type": "code",
   "execution_count": 23,
   "metadata": {},
   "outputs": [],
   "source": [
    "import pandas as pd\n",
    "import warnings\n",
    "warnings.filterwarnings(\"ignore\")\n",
    "import numpy as np"
   ]
  },
  {
   "cell_type": "code",
   "execution_count": 24,
   "metadata": {},
   "outputs": [],
   "source": [
    "raw_mcq = pd.read_sas('MCQ_I.XPT')"
   ]
  },
  {
   "cell_type": "markdown",
   "metadata": {},
   "source": [
    "columns to keep:\n",
    "\n",
    "MCQ080 - Doctor ever said you were overweight (categorical)\n",
    "\n",
    "MCQ365a - Doctor told you to lose weight (categorical)\n",
    "\n",
    "MCQ365b - Doctor told you to exercise (categorical)\n",
    "\n",
    "MCQ365c - Doctor told you to reduce salt in diet (categorical)\n",
    "\n",
    "MCQ365d - Doctor told you to reduce fat/calories (categorical)"
   ]
  },
  {
   "cell_type": "code",
   "execution_count": null,
   "metadata": {},
   "outputs": [],
   "source": []
  },
  {
   "cell_type": "code",
   "execution_count": 25,
   "metadata": {},
   "outputs": [],
   "source": [
    "mcq_cols_to_keep = ['SEQN', 'MCQ080', 'MCQ365A', 'MCQ365B', 'MCQ365C', 'MCQ365D']\n"
   ]
  },
  {
   "cell_type": "code",
   "execution_count": 26,
   "metadata": {},
   "outputs": [],
   "source": [
    "mcq_df = raw_mcq[mcq_cols_to_keep]"
   ]
  },
  {
   "cell_type": "code",
   "execution_count": 27,
   "metadata": {},
   "outputs": [
    {
     "data": {
      "text/plain": [
       "(9575, 6)"
      ]
     },
     "execution_count": 27,
     "metadata": {},
     "output_type": "execute_result"
    }
   ],
   "source": [
    "mcq_df.shape"
   ]
  },
  {
   "cell_type": "code",
   "execution_count": 28,
   "metadata": {
    "scrolled": true
   },
   "outputs": [
    {
     "data": {
      "text/plain": [
       "SEQN          0\n",
       "MCQ080     3248\n",
       "MCQ365A    3248\n",
       "MCQ365B    3248\n",
       "MCQ365C    3248\n",
       "MCQ365D    3248\n",
       "dtype: int64"
      ]
     },
     "execution_count": 28,
     "metadata": {},
     "output_type": "execute_result"
    }
   ],
   "source": [
    "mcq_df.isna().sum()"
   ]
  },
  {
   "cell_type": "code",
   "execution_count": 31,
   "metadata": {},
   "outputs": [],
   "source": [
    "mcq_df.loc[mcq_df['MCQ080'] > 6, 'MCQ080'] = np.NaN\n",
    "mcq_df.loc[mcq_df['MCQ365A'] > 6, 'MCQ365A'] = np.NaN\n",
    "mcq_df.loc[mcq_df['MCQ365B'] > 6, 'MCQ365B'] = np.NaN\n",
    "mcq_df.loc[mcq_df['MCQ365C'] > 6, 'MCQ365C'] = np.NaN\n",
    "mcq_df.loc[mcq_df['MCQ365D'] > 6, 'MCQ365D'] = np.NaN"
   ]
  },
  {
   "cell_type": "code",
   "execution_count": 32,
   "metadata": {},
   "outputs": [],
   "source": [
    "mcq_df.rename(columns={'MCQ080':'Doctor_told_you_overweight', 'MCQ365A':'Doctor_told_you_lose_weight', \n",
    "                       'MCQ365B':'Doctor_told_you_exercise', 'MCQ365C':'Doctor_told_you_reduce_salt', \n",
    "                       'MCQ365D':'Doctor_told_you_reduce_fat_calories'}, inplace=True)\n"
   ]
  },
  {
   "cell_type": "code",
   "execution_count": 33,
   "metadata": {
    "scrolled": true
   },
   "outputs": [
    {
     "data": {
      "text/html": [
       "<div>\n",
       "<style scoped>\n",
       "    .dataframe tbody tr th:only-of-type {\n",
       "        vertical-align: middle;\n",
       "    }\n",
       "\n",
       "    .dataframe tbody tr th {\n",
       "        vertical-align: top;\n",
       "    }\n",
       "\n",
       "    .dataframe thead th {\n",
       "        text-align: right;\n",
       "    }\n",
       "</style>\n",
       "<table border=\"1\" class=\"dataframe\">\n",
       "  <thead>\n",
       "    <tr style=\"text-align: right;\">\n",
       "      <th></th>\n",
       "      <th>SEQN</th>\n",
       "      <th>Doctor_told_you_overweight</th>\n",
       "      <th>Doctor_told_you_lose_weight</th>\n",
       "      <th>Doctor_told_you_exercise</th>\n",
       "      <th>Doctor_told_you_reduce_salt</th>\n",
       "      <th>Doctor_told_you_reduce_fat_calories</th>\n",
       "    </tr>\n",
       "  </thead>\n",
       "  <tbody>\n",
       "    <tr>\n",
       "      <th>0</th>\n",
       "      <td>83732.0</td>\n",
       "      <td>1.0</td>\n",
       "      <td>2.0</td>\n",
       "      <td>1.0</td>\n",
       "      <td>2.0</td>\n",
       "      <td>2.0</td>\n",
       "    </tr>\n",
       "    <tr>\n",
       "      <th>1</th>\n",
       "      <td>83733.0</td>\n",
       "      <td>2.0</td>\n",
       "      <td>2.0</td>\n",
       "      <td>2.0</td>\n",
       "      <td>2.0</td>\n",
       "      <td>2.0</td>\n",
       "    </tr>\n",
       "    <tr>\n",
       "      <th>2</th>\n",
       "      <td>83734.0</td>\n",
       "      <td>1.0</td>\n",
       "      <td>2.0</td>\n",
       "      <td>1.0</td>\n",
       "      <td>1.0</td>\n",
       "      <td>1.0</td>\n",
       "    </tr>\n",
       "    <tr>\n",
       "      <th>3</th>\n",
       "      <td>83735.0</td>\n",
       "      <td>1.0</td>\n",
       "      <td>1.0</td>\n",
       "      <td>1.0</td>\n",
       "      <td>2.0</td>\n",
       "      <td>1.0</td>\n",
       "    </tr>\n",
       "    <tr>\n",
       "      <th>4</th>\n",
       "      <td>83736.0</td>\n",
       "      <td>2.0</td>\n",
       "      <td>2.0</td>\n",
       "      <td>2.0</td>\n",
       "      <td>2.0</td>\n",
       "      <td>2.0</td>\n",
       "    </tr>\n",
       "  </tbody>\n",
       "</table>\n",
       "</div>"
      ],
      "text/plain": [
       "      SEQN  Doctor_told_you_overweight  Doctor_told_you_lose_weight  \\\n",
       "0  83732.0                         1.0                          2.0   \n",
       "1  83733.0                         2.0                          2.0   \n",
       "2  83734.0                         1.0                          2.0   \n",
       "3  83735.0                         1.0                          1.0   \n",
       "4  83736.0                         2.0                          2.0   \n",
       "\n",
       "   Doctor_told_you_exercise  Doctor_told_you_reduce_salt  \\\n",
       "0                       1.0                          2.0   \n",
       "1                       2.0                          2.0   \n",
       "2                       1.0                          1.0   \n",
       "3                       1.0                          2.0   \n",
       "4                       2.0                          2.0   \n",
       "\n",
       "   Doctor_told_you_reduce_fat_calories  \n",
       "0                                  2.0  \n",
       "1                                  2.0  \n",
       "2                                  1.0  \n",
       "3                                  1.0  \n",
       "4                                  2.0  "
      ]
     },
     "execution_count": 33,
     "metadata": {},
     "output_type": "execute_result"
    }
   ],
   "source": [
    "mcq_df.head()"
   ]
  },
  {
   "cell_type": "code",
   "execution_count": 37,
   "metadata": {},
   "outputs": [],
   "source": [
    "mcq_df.to_csv('Medical_Conditions_Questionnaire_Data.csv')"
   ]
  },
  {
   "cell_type": "code",
   "execution_count": null,
   "metadata": {},
   "outputs": [],
   "source": []
  }
 ],
 "metadata": {
  "kernelspec": {
   "display_name": "Python 3",
   "language": "python",
   "name": "python3"
  },
  "language_info": {
   "codemirror_mode": {
    "name": "ipython",
    "version": 3
   },
   "file_extension": ".py",
   "mimetype": "text/x-python",
   "name": "python",
   "nbconvert_exporter": "python",
   "pygments_lexer": "ipython3",
   "version": "3.7.1"
  }
 },
 "nbformat": 4,
 "nbformat_minor": 2
}
